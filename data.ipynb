{
 "cells": [
  {
   "cell_type": "code",
   "execution_count": null,
   "id": "3fe8dfc1",
   "metadata": {},
   "outputs": [],
   "source": [
    "!pip install wbgapi pandas"
   ]
  },
  {
   "cell_type": "code",
   "execution_count": 1,
   "id": "7b287044",
   "metadata": {},
   "outputs": [],
   "source": [
    "import os\n",
    "os.environ[\"LOKY_MAX_CPU_COUNT\"] = str(int(os.cpu_count() or 1))\n",
    "import warnings\n",
    "warnings.filterwarnings(\"ignore\")\n",
    "import wbgapi as wb\n",
    "import pandas as pd\n",
    "from datetime import date"
   ]
  },
  {
   "cell_type": "markdown",
   "id": "d80605ed",
   "metadata": {},
   "source": [
    "### 1) 设定区域与年份 "
   ]
  },
  {
   "cell_type": "code",
   "execution_count": 2,
   "id": "a6ccf6a2",
   "metadata": {},
   "outputs": [],
   "source": [
    "APAC_REGIONS = ['EAS', 'SAS']   # 东亚太平洋 + 南亚\n",
    "END_YEAR = date.today().year - 1         # 用去年作为最近完整年\n",
    "START_YEAR = END_YEAR - 9                 # 近10年\n",
    "YEARS = range(START_YEAR, END_YEAR + 1)"
   ]
  },
  {
   "cell_type": "markdown",
   "id": "4338f023",
   "metadata": {},
   "source": [
    "### 2) 选择指标（>=8 个，含时间维度）"
   ]
  },
  {
   "cell_type": "code",
   "execution_count": 3,
   "id": "a7741c5b",
   "metadata": {},
   "outputs": [],
   "source": [
    "INDICATORS = {\n",
    "    'NY.GDP.MKTP.CD'      : 'gdp_current_usd',        # GDP(现价美元)\n",
    "    'NY.GDP.MKTP.KD.ZG'   : 'gdp_real_growth_pct',    # 实际GDP增速(%)\n",
    "    'NY.GDP.PCAP.CD'      : 'gdp_per_capita_usd',     # 人均GDP(美元)\n",
    "    'FP.CPI.TOTL.ZG'      : 'inflation_cpi_pct',      # 居民消费价格通胀(%)\n",
    "    'SL.UEM.TOTL.ZS'      : 'unemployment_pct',       # 失业率(%)\n",
    "    'NE.EXP.GNFS.ZS'      : 'exports_gdp_pct',        # 货物与服务出口/GDP(%)\n",
    "    'NE.IMP.GNFS.ZS'      : 'imports_gdp_pct',        # 货物与服务进口/GDP(%)\n",
    "    'GC.NLD.TOTL.GD.ZS'   : 'fiscal_balance_gdp_pct', # 政府现金收支差/GDP(%)\n",
    "    'BX.KLT.DINV.WD.GD.ZS': 'fdi_inflow_gdp_pct',     # 外商直接投资净流入/GDP(%)\n",
    "}\n",
    "\n",
    "# === 3) 取亚太地区成员经济体（返回 ISO3 代码列表）===\n",
    "# WBGAPI 支持按“地区→成员国”查询\n",
    "economies = sorted({e for r in APAC_REGIONS for e in wb.region.members(r)})\n",
    "\n"
   ]
  },
  {
   "cell_type": "markdown",
   "id": "4904adc2",
   "metadata": {},
   "source": [
    "### 4) 批量拉取数据：多个指标 × 多国 × 多年 → DataFrame"
   ]
  },
  {
   "cell_type": "code",
   "execution_count": 4,
   "id": "aa06be49",
   "metadata": {},
   "outputs": [],
   "source": [
    "df_wide = wb.data.DataFrame(\n",
    "    list(INDICATORS.keys()),\n",
    "    economies,\n",
    "    time=YEARS,\n",
    "    index=['economy','time'],\n",
    "    columns='series',\n",
    "    labels=True,\n",
    "    numericTimeKeys=True\n",
    ")\n",
    "\n",
    "# 3) 整理列名\n",
    "df = (df_wide\n",
    "      .rename(columns=INDICATORS)\n",
    "      .reset_index()\n",
    "      .rename(columns={'economy': 'iso3', 'time': 'year', 'Country': 'country_name'}))\n"
   ]
  },
  {
   "cell_type": "code",
   "execution_count": 5,
   "id": "e77c781d",
   "metadata": {},
   "outputs": [
    {
     "data": {
      "text/plain": [
       "Index(['Country', 'Time', 'BX.KLT.DINV.WD.GD.ZS', 'FP.CPI.TOTL.ZG',\n",
       "       'GC.NLD.TOTL.GD.ZS', 'NE.EXP.GNFS.ZS', 'NE.IMP.GNFS.ZS',\n",
       "       'NY.GDP.MKTP.CD', 'NY.GDP.MKTP.KD.ZG', 'NY.GDP.PCAP.CD',\n",
       "       'SL.UEM.TOTL.ZS'],\n",
       "      dtype='object')"
      ]
     },
     "execution_count": 5,
     "metadata": {},
     "output_type": "execute_result"
    }
   ],
   "source": [
    "df_wide.columns"
   ]
  },
  {
   "cell_type": "code",
   "execution_count": 6,
   "id": "eb4e35e8",
   "metadata": {},
   "outputs": [
    {
     "data": {
      "text/html": [
       "<div>\n",
       "<style scoped>\n",
       "    .dataframe tbody tr th:only-of-type {\n",
       "        vertical-align: middle;\n",
       "    }\n",
       "\n",
       "    .dataframe tbody tr th {\n",
       "        vertical-align: top;\n",
       "    }\n",
       "\n",
       "    .dataframe thead th {\n",
       "        text-align: right;\n",
       "    }\n",
       "</style>\n",
       "<table border=\"1\" class=\"dataframe\">\n",
       "  <thead>\n",
       "    <tr style=\"text-align: right;\">\n",
       "      <th></th>\n",
       "      <th>iso3</th>\n",
       "      <th>year</th>\n",
       "      <th>country_name</th>\n",
       "      <th>Time</th>\n",
       "      <th>fdi_inflow_gdp_pct</th>\n",
       "      <th>inflation_cpi_pct</th>\n",
       "      <th>fiscal_balance_gdp_pct</th>\n",
       "      <th>exports_gdp_pct</th>\n",
       "      <th>imports_gdp_pct</th>\n",
       "      <th>gdp_current_usd</th>\n",
       "      <th>gdp_real_growth_pct</th>\n",
       "      <th>gdp_per_capita_usd</th>\n",
       "      <th>unemployment_pct</th>\n",
       "    </tr>\n",
       "  </thead>\n",
       "  <tbody>\n",
       "    <tr>\n",
       "      <th>0</th>\n",
       "      <td>WSM</td>\n",
       "      <td>2024</td>\n",
       "      <td>Samoa</td>\n",
       "      <td>2024</td>\n",
       "      <td>0.350274</td>\n",
       "      <td>2.172455</td>\n",
       "      <td>NaN</td>\n",
       "      <td>29.315509</td>\n",
       "      <td>53.816154</td>\n",
       "      <td>1.068025e+09</td>\n",
       "      <td>9.422350</td>\n",
       "      <td>4898.771408</td>\n",
       "      <td>4.551</td>\n",
       "    </tr>\n",
       "    <tr>\n",
       "      <th>1</th>\n",
       "      <td>WSM</td>\n",
       "      <td>2023</td>\n",
       "      <td>Samoa</td>\n",
       "      <td>2023</td>\n",
       "      <td>0.255376</td>\n",
       "      <td>7.921647</td>\n",
       "      <td>4.885785</td>\n",
       "      <td>28.753800</td>\n",
       "      <td>61.903681</td>\n",
       "      <td>9.381894e+08</td>\n",
       "      <td>9.208649</td>\n",
       "      <td>4330.178405</td>\n",
       "      <td>4.977</td>\n",
       "    </tr>\n",
       "    <tr>\n",
       "      <th>2</th>\n",
       "      <td>WSM</td>\n",
       "      <td>2022</td>\n",
       "      <td>Samoa</td>\n",
       "      <td>2022</td>\n",
       "      <td>0.576323</td>\n",
       "      <td>10.961882</td>\n",
       "      <td>6.559183</td>\n",
       "      <td>12.266383</td>\n",
       "      <td>52.716798</td>\n",
       "      <td>8.329452e+08</td>\n",
       "      <td>-5.306291</td>\n",
       "      <td>3869.466395</td>\n",
       "      <td>5.048</td>\n",
       "    </tr>\n",
       "    <tr>\n",
       "      <th>3</th>\n",
       "      <td>WSM</td>\n",
       "      <td>2021</td>\n",
       "      <td>Samoa</td>\n",
       "      <td>2021</td>\n",
       "      <td>1.060395</td>\n",
       "      <td>3.133205</td>\n",
       "      <td>0.983685</td>\n",
       "      <td>11.685690</td>\n",
       "      <td>49.203196</td>\n",
       "      <td>8.439236e+08</td>\n",
       "      <td>-7.078831</td>\n",
       "      <td>3947.645179</td>\n",
       "      <td>6.612</td>\n",
       "    </tr>\n",
       "    <tr>\n",
       "      <th>4</th>\n",
       "      <td>WSM</td>\n",
       "      <td>2020</td>\n",
       "      <td>Samoa</td>\n",
       "      <td>2020</td>\n",
       "      <td>0.509390</td>\n",
       "      <td>-1.568912</td>\n",
       "      <td>7.638424</td>\n",
       "      <td>29.195960</td>\n",
       "      <td>48.287640</td>\n",
       "      <td>8.688984e+08</td>\n",
       "      <td>-3.108444</td>\n",
       "      <td>4099.660091</td>\n",
       "      <td>7.435</td>\n",
       "    </tr>\n",
       "    <tr>\n",
       "      <th>...</th>\n",
       "      <td>...</td>\n",
       "      <td>...</td>\n",
       "      <td>...</td>\n",
       "      <td>...</td>\n",
       "      <td>...</td>\n",
       "      <td>...</td>\n",
       "      <td>...</td>\n",
       "      <td>...</td>\n",
       "      <td>...</td>\n",
       "      <td>...</td>\n",
       "      <td>...</td>\n",
       "      <td>...</td>\n",
       "      <td>...</td>\n",
       "    </tr>\n",
       "    <tr>\n",
       "      <th>425</th>\n",
       "      <td>ASM</td>\n",
       "      <td>2019</td>\n",
       "      <td>American Samoa</td>\n",
       "      <td>2019</td>\n",
       "      <td>NaN</td>\n",
       "      <td>NaN</td>\n",
       "      <td>NaN</td>\n",
       "      <td>61.669243</td>\n",
       "      <td>94.899536</td>\n",
       "      <td>6.470000e+08</td>\n",
       "      <td>-0.487805</td>\n",
       "      <td>12886.135952</td>\n",
       "      <td>NaN</td>\n",
       "    </tr>\n",
       "    <tr>\n",
       "      <th>426</th>\n",
       "      <td>ASM</td>\n",
       "      <td>2018</td>\n",
       "      <td>American Samoa</td>\n",
       "      <td>2018</td>\n",
       "      <td>NaN</td>\n",
       "      <td>NaN</td>\n",
       "      <td>NaN</td>\n",
       "      <td>68.231612</td>\n",
       "      <td>103.599374</td>\n",
       "      <td>6.390000e+08</td>\n",
       "      <td>2.671119</td>\n",
       "      <td>12552.054687</td>\n",
       "      <td>NaN</td>\n",
       "    </tr>\n",
       "    <tr>\n",
       "      <th>427</th>\n",
       "      <td>ASM</td>\n",
       "      <td>2017</td>\n",
       "      <td>American Samoa</td>\n",
       "      <td>2017</td>\n",
       "      <td>NaN</td>\n",
       "      <td>NaN</td>\n",
       "      <td>NaN</td>\n",
       "      <td>59.150327</td>\n",
       "      <td>102.287582</td>\n",
       "      <td>6.120000e+08</td>\n",
       "      <td>-6.987578</td>\n",
       "      <td>11863.683945</td>\n",
       "      <td>NaN</td>\n",
       "    </tr>\n",
       "    <tr>\n",
       "      <th>428</th>\n",
       "      <td>ASM</td>\n",
       "      <td>2016</td>\n",
       "      <td>American Samoa</td>\n",
       "      <td>2016</td>\n",
       "      <td>NaN</td>\n",
       "      <td>NaN</td>\n",
       "      <td>NaN</td>\n",
       "      <td>63.934426</td>\n",
       "      <td>95.230999</td>\n",
       "      <td>6.710000e+08</td>\n",
       "      <td>-1.679389</td>\n",
       "      <td>12843.334290</td>\n",
       "      <td>NaN</td>\n",
       "    </tr>\n",
       "    <tr>\n",
       "      <th>429</th>\n",
       "      <td>ASM</td>\n",
       "      <td>2015</td>\n",
       "      <td>American Samoa</td>\n",
       "      <td>2015</td>\n",
       "      <td>NaN</td>\n",
       "      <td>NaN</td>\n",
       "      <td>NaN</td>\n",
       "      <td>63.595840</td>\n",
       "      <td>98.811293</td>\n",
       "      <td>6.730000e+08</td>\n",
       "      <td>3.149606</td>\n",
       "      <td>12727.410265</td>\n",
       "      <td>NaN</td>\n",
       "    </tr>\n",
       "  </tbody>\n",
       "</table>\n",
       "<p>430 rows × 13 columns</p>\n",
       "</div>"
      ],
      "text/plain": [
       "    iso3  year    country_name  Time  fdi_inflow_gdp_pct  inflation_cpi_pct  \\\n",
       "0    WSM  2024           Samoa  2024            0.350274           2.172455   \n",
       "1    WSM  2023           Samoa  2023            0.255376           7.921647   \n",
       "2    WSM  2022           Samoa  2022            0.576323          10.961882   \n",
       "3    WSM  2021           Samoa  2021            1.060395           3.133205   \n",
       "4    WSM  2020           Samoa  2020            0.509390          -1.568912   \n",
       "..   ...   ...             ...   ...                 ...                ...   \n",
       "425  ASM  2019  American Samoa  2019                 NaN                NaN   \n",
       "426  ASM  2018  American Samoa  2018                 NaN                NaN   \n",
       "427  ASM  2017  American Samoa  2017                 NaN                NaN   \n",
       "428  ASM  2016  American Samoa  2016                 NaN                NaN   \n",
       "429  ASM  2015  American Samoa  2015                 NaN                NaN   \n",
       "\n",
       "     fiscal_balance_gdp_pct  exports_gdp_pct  imports_gdp_pct  \\\n",
       "0                       NaN        29.315509        53.816154   \n",
       "1                  4.885785        28.753800        61.903681   \n",
       "2                  6.559183        12.266383        52.716798   \n",
       "3                  0.983685        11.685690        49.203196   \n",
       "4                  7.638424        29.195960        48.287640   \n",
       "..                      ...              ...              ...   \n",
       "425                     NaN        61.669243        94.899536   \n",
       "426                     NaN        68.231612       103.599374   \n",
       "427                     NaN        59.150327       102.287582   \n",
       "428                     NaN        63.934426        95.230999   \n",
       "429                     NaN        63.595840        98.811293   \n",
       "\n",
       "     gdp_current_usd  gdp_real_growth_pct  gdp_per_capita_usd  \\\n",
       "0       1.068025e+09             9.422350         4898.771408   \n",
       "1       9.381894e+08             9.208649         4330.178405   \n",
       "2       8.329452e+08            -5.306291         3869.466395   \n",
       "3       8.439236e+08            -7.078831         3947.645179   \n",
       "4       8.688984e+08            -3.108444         4099.660091   \n",
       "..               ...                  ...                 ...   \n",
       "425     6.470000e+08            -0.487805        12886.135952   \n",
       "426     6.390000e+08             2.671119        12552.054687   \n",
       "427     6.120000e+08            -6.987578        11863.683945   \n",
       "428     6.710000e+08            -1.679389        12843.334290   \n",
       "429     6.730000e+08             3.149606        12727.410265   \n",
       "\n",
       "     unemployment_pct  \n",
       "0               4.551  \n",
       "1               4.977  \n",
       "2               5.048  \n",
       "3               6.612  \n",
       "4               7.435  \n",
       "..                ...  \n",
       "425               NaN  \n",
       "426               NaN  \n",
       "427               NaN  \n",
       "428               NaN  \n",
       "429               NaN  \n",
       "\n",
       "[430 rows x 13 columns]"
      ]
     },
     "execution_count": 6,
     "metadata": {},
     "output_type": "execute_result"
    }
   ],
   "source": [
    "df"
   ]
  },
  {
   "cell_type": "code",
   "execution_count": 7,
   "id": "0d3d4a55",
   "metadata": {},
   "outputs": [],
   "source": [
    "meta = wb.economy.DataFrame(economies).reset_index().rename(columns={'index': 'iso3'})\n",
    "#re colum name id to iso3\n",
    "meta = meta.rename(columns={'id': 'iso3'})"
   ]
  },
  {
   "cell_type": "code",
   "execution_count": 8,
   "id": "bc9cbc31",
   "metadata": {},
   "outputs": [
    {
     "name": "stdout",
     "output_type": "stream",
     "text": [
      "OK: 2015-2024, 43 个经济体, 9 指标 → apac_wdi_10y.csv\n"
     ]
    }
   ],
   "source": [
    "\n",
    "df = df.merge(meta[['iso3', 'region', 'incomeLevel']], on='iso3', how='left')\n",
    "\n",
    "# 5) 数值列转数值\n",
    "value_cols = list(INDICATORS.values())\n",
    "df[value_cols] = df[value_cols].apply(pd.to_numeric, errors='coerce')\n",
    "\n",
    "# 6) 保存\n",
    "df = df[['iso3','country_name','region','incomeLevel','year'] + value_cols].sort_values(['iso3','year'])\n",
    "df.to_csv('apac_wdi_10y.csv', index=False)\n",
    "print(f\"OK: {START_YEAR}-{END_YEAR}, {len(economies)} 个经济体, {len(INDICATORS)} 指标 → apac_wdi_10y.csv\")"
   ]
  },
  {
   "cell_type": "code",
   "execution_count": 9,
   "id": "e89ec7de",
   "metadata": {},
   "outputs": [
    {
     "name": "stdout",
     "output_type": "stream",
     "text": [
      "[各指标缺失率]\n",
      "fiscal_balance_gdp_pct    45.8%\n",
      "inflation_cpi_pct         23.3%\n",
      "unemployment_pct          18.6%\n",
      "exports_gdp_pct           18.1%\n",
      "imports_gdp_pct           18.1%\n",
      "fdi_inflow_gdp_pct        14.2%\n",
      "gdp_real_growth_pct        6.3%\n",
      "gdp_current_usd            5.6%\n",
      "gdp_per_capita_usd         5.6%\n",
      "dtype: object\n",
      "\n",
      "[各国家平均覆盖率Top/Bottom]\n",
      "iso3\n",
      "WSM    0.988889\n",
      "PHL    0.988889\n",
      "MYS    0.988889\n",
      "THA    0.988889\n",
      "LKA    0.988889\n",
      "dtype: float64\n",
      "iso3\n",
      "PRK    0.111111\n",
      "TUV    0.400000\n",
      "ASM    0.444444\n",
      "MNP    0.444444\n",
      "NCL    0.522222\n",
      "dtype: float64\n"
     ]
    }
   ],
   "source": [
    "# 你计划使用的“可读指标名”（有多少就用多少）\n",
    "all_candidates = [\n",
    "    'gdp_current_usd', 'gdp_per_capita_usd', 'gdp_real_growth_pct',\n",
    "    'inflation_cpi_pct', 'unemployment_pct',\n",
    "    'exports_gdp_pct', 'imports_gdp_pct',\n",
    "    'fdi_inflow_gdp_pct', 'fiscal_balance_gdp_pct'\n",
    "]\n",
    "value_cols = [c for c in all_candidates if c in df.columns]\n",
    "\n",
    "# 类型划分\n",
    "level_cols = [c for c in ['gdp_current_usd', 'gdp_per_capita_usd'] if c in value_cols]\n",
    "rate_cols  = [c for c in value_cols if c not in level_cols]  # 百分比/比率/增速等\n",
    "\n",
    "# ---- 1) 缺失诊断报告（可选打印） ----\n",
    "missing_by_col = df[value_cols].isna().mean().sort_values(ascending=False)\n",
    "print('[各指标缺失率]')\n",
    "print((missing_by_col*100).round(1).astype(str) + '%')\n",
    "\n",
    "coverage_by_country = 1 - df.groupby('iso3')[value_cols].apply(lambda x: x.isna().mean()).mean(axis=1)\n",
    "print('\\n[各国家平均覆盖率Top/Bottom]')\n",
    "print(coverage_by_country.sort_values(ascending=False).head(5))\n",
    "print(coverage_by_country.sort_values().head(5))\n",
    "\n"
   ]
  },
  {
   "cell_type": "code",
   "execution_count": 10,
   "id": "23969365",
   "metadata": {},
   "outputs": [
    {
     "data": {
      "text/html": [
       "<div>\n",
       "<style scoped>\n",
       "    .dataframe tbody tr th:only-of-type {\n",
       "        vertical-align: middle;\n",
       "    }\n",
       "\n",
       "    .dataframe tbody tr th {\n",
       "        vertical-align: top;\n",
       "    }\n",
       "\n",
       "    .dataframe thead th {\n",
       "        text-align: right;\n",
       "    }\n",
       "</style>\n",
       "<table border=\"1\" class=\"dataframe\">\n",
       "  <thead>\n",
       "    <tr style=\"text-align: right;\">\n",
       "      <th></th>\n",
       "      <th>iso3</th>\n",
       "      <th>country_name</th>\n",
       "      <th>region</th>\n",
       "      <th>incomeLevel</th>\n",
       "      <th>year</th>\n",
       "      <th>gdp_current_usd</th>\n",
       "      <th>gdp_real_growth_pct</th>\n",
       "      <th>gdp_per_capita_usd</th>\n",
       "      <th>inflation_cpi_pct</th>\n",
       "      <th>unemployment_pct</th>\n",
       "      <th>exports_gdp_pct</th>\n",
       "      <th>imports_gdp_pct</th>\n",
       "      <th>fiscal_balance_gdp_pct</th>\n",
       "      <th>fdi_inflow_gdp_pct</th>\n",
       "    </tr>\n",
       "  </thead>\n",
       "  <tbody>\n",
       "    <tr>\n",
       "      <th>429</th>\n",
       "      <td>ASM</td>\n",
       "      <td>American Samoa</td>\n",
       "      <td>EAS</td>\n",
       "      <td>HIC</td>\n",
       "      <td>2015</td>\n",
       "      <td>6.730000e+08</td>\n",
       "      <td>3.149606</td>\n",
       "      <td>12727.410265</td>\n",
       "      <td>4.132337</td>\n",
       "      <td>4.7656</td>\n",
       "      <td>63.595840</td>\n",
       "      <td>98.811293</td>\n",
       "      <td>1.998238</td>\n",
       "      <td>2.689566</td>\n",
       "    </tr>\n",
       "    <tr>\n",
       "      <th>428</th>\n",
       "      <td>ASM</td>\n",
       "      <td>American Samoa</td>\n",
       "      <td>EAS</td>\n",
       "      <td>HIC</td>\n",
       "      <td>2016</td>\n",
       "      <td>6.710000e+08</td>\n",
       "      <td>-1.679389</td>\n",
       "      <td>12843.334290</td>\n",
       "      <td>4.132337</td>\n",
       "      <td>4.7656</td>\n",
       "      <td>63.934426</td>\n",
       "      <td>95.230999</td>\n",
       "      <td>1.998238</td>\n",
       "      <td>2.689566</td>\n",
       "    </tr>\n",
       "    <tr>\n",
       "      <th>427</th>\n",
       "      <td>ASM</td>\n",
       "      <td>American Samoa</td>\n",
       "      <td>EAS</td>\n",
       "      <td>HIC</td>\n",
       "      <td>2017</td>\n",
       "      <td>6.120000e+08</td>\n",
       "      <td>-6.987578</td>\n",
       "      <td>11863.683945</td>\n",
       "      <td>4.758562</td>\n",
       "      <td>2.3062</td>\n",
       "      <td>59.150327</td>\n",
       "      <td>102.287582</td>\n",
       "      <td>2.594881</td>\n",
       "      <td>0.222758</td>\n",
       "    </tr>\n",
       "    <tr>\n",
       "      <th>426</th>\n",
       "      <td>ASM</td>\n",
       "      <td>American Samoa</td>\n",
       "      <td>EAS</td>\n",
       "      <td>HIC</td>\n",
       "      <td>2018</td>\n",
       "      <td>6.390000e+08</td>\n",
       "      <td>2.671119</td>\n",
       "      <td>12552.054687</td>\n",
       "      <td>5.019308</td>\n",
       "      <td>2.9256</td>\n",
       "      <td>68.231612</td>\n",
       "      <td>103.599374</td>\n",
       "      <td>3.574335</td>\n",
       "      <td>1.286643</td>\n",
       "    </tr>\n",
       "    <tr>\n",
       "      <th>425</th>\n",
       "      <td>ASM</td>\n",
       "      <td>American Samoa</td>\n",
       "      <td>EAS</td>\n",
       "      <td>HIC</td>\n",
       "      <td>2019</td>\n",
       "      <td>6.470000e+08</td>\n",
       "      <td>-0.487805</td>\n",
       "      <td>12886.135952</td>\n",
       "      <td>5.019308</td>\n",
       "      <td>2.9256</td>\n",
       "      <td>61.669243</td>\n",
       "      <td>94.899536</td>\n",
       "      <td>3.574335</td>\n",
       "      <td>1.286643</td>\n",
       "    </tr>\n",
       "    <tr>\n",
       "      <th>...</th>\n",
       "      <td>...</td>\n",
       "      <td>...</td>\n",
       "      <td>...</td>\n",
       "      <td>...</td>\n",
       "      <td>...</td>\n",
       "      <td>...</td>\n",
       "      <td>...</td>\n",
       "      <td>...</td>\n",
       "      <td>...</td>\n",
       "      <td>...</td>\n",
       "      <td>...</td>\n",
       "      <td>...</td>\n",
       "      <td>...</td>\n",
       "      <td>...</td>\n",
       "    </tr>\n",
       "    <tr>\n",
       "      <th>4</th>\n",
       "      <td>WSM</td>\n",
       "      <td>Samoa</td>\n",
       "      <td>EAS</td>\n",
       "      <td>UMC</td>\n",
       "      <td>2020</td>\n",
       "      <td>8.688984e+08</td>\n",
       "      <td>-3.108444</td>\n",
       "      <td>4099.660091</td>\n",
       "      <td>-1.568912</td>\n",
       "      <td>7.4350</td>\n",
       "      <td>29.195960</td>\n",
       "      <td>48.287640</td>\n",
       "      <td>7.638424</td>\n",
       "      <td>0.509390</td>\n",
       "    </tr>\n",
       "    <tr>\n",
       "      <th>3</th>\n",
       "      <td>WSM</td>\n",
       "      <td>Samoa</td>\n",
       "      <td>EAS</td>\n",
       "      <td>UMC</td>\n",
       "      <td>2021</td>\n",
       "      <td>8.439236e+08</td>\n",
       "      <td>-7.078831</td>\n",
       "      <td>3947.645179</td>\n",
       "      <td>3.133205</td>\n",
       "      <td>6.6120</td>\n",
       "      <td>11.685690</td>\n",
       "      <td>49.203196</td>\n",
       "      <td>0.983685</td>\n",
       "      <td>1.060395</td>\n",
       "    </tr>\n",
       "    <tr>\n",
       "      <th>2</th>\n",
       "      <td>WSM</td>\n",
       "      <td>Samoa</td>\n",
       "      <td>EAS</td>\n",
       "      <td>UMC</td>\n",
       "      <td>2022</td>\n",
       "      <td>8.329452e+08</td>\n",
       "      <td>-5.306291</td>\n",
       "      <td>3869.466395</td>\n",
       "      <td>10.961882</td>\n",
       "      <td>5.0480</td>\n",
       "      <td>12.266383</td>\n",
       "      <td>52.716798</td>\n",
       "      <td>6.559183</td>\n",
       "      <td>0.576323</td>\n",
       "    </tr>\n",
       "    <tr>\n",
       "      <th>1</th>\n",
       "      <td>WSM</td>\n",
       "      <td>Samoa</td>\n",
       "      <td>EAS</td>\n",
       "      <td>UMC</td>\n",
       "      <td>2023</td>\n",
       "      <td>9.381894e+08</td>\n",
       "      <td>9.208649</td>\n",
       "      <td>4330.178405</td>\n",
       "      <td>7.921647</td>\n",
       "      <td>4.9770</td>\n",
       "      <td>28.753800</td>\n",
       "      <td>61.903681</td>\n",
       "      <td>4.885785</td>\n",
       "      <td>0.255376</td>\n",
       "    </tr>\n",
       "    <tr>\n",
       "      <th>0</th>\n",
       "      <td>WSM</td>\n",
       "      <td>Samoa</td>\n",
       "      <td>EAS</td>\n",
       "      <td>UMC</td>\n",
       "      <td>2024</td>\n",
       "      <td>1.068025e+09</td>\n",
       "      <td>9.422350</td>\n",
       "      <td>4898.771408</td>\n",
       "      <td>2.172455</td>\n",
       "      <td>4.5510</td>\n",
       "      <td>29.315509</td>\n",
       "      <td>53.816154</td>\n",
       "      <td>1.149538</td>\n",
       "      <td>0.350274</td>\n",
       "    </tr>\n",
       "  </tbody>\n",
       "</table>\n",
       "<p>430 rows × 14 columns</p>\n",
       "</div>"
      ],
      "text/plain": [
       "    iso3    country_name region incomeLevel  year  gdp_current_usd  \\\n",
       "429  ASM  American Samoa    EAS         HIC  2015     6.730000e+08   \n",
       "428  ASM  American Samoa    EAS         HIC  2016     6.710000e+08   \n",
       "427  ASM  American Samoa    EAS         HIC  2017     6.120000e+08   \n",
       "426  ASM  American Samoa    EAS         HIC  2018     6.390000e+08   \n",
       "425  ASM  American Samoa    EAS         HIC  2019     6.470000e+08   \n",
       "..   ...             ...    ...         ...   ...              ...   \n",
       "4    WSM           Samoa    EAS         UMC  2020     8.688984e+08   \n",
       "3    WSM           Samoa    EAS         UMC  2021     8.439236e+08   \n",
       "2    WSM           Samoa    EAS         UMC  2022     8.329452e+08   \n",
       "1    WSM           Samoa    EAS         UMC  2023     9.381894e+08   \n",
       "0    WSM           Samoa    EAS         UMC  2024     1.068025e+09   \n",
       "\n",
       "     gdp_real_growth_pct  gdp_per_capita_usd  inflation_cpi_pct  \\\n",
       "429             3.149606        12727.410265           4.132337   \n",
       "428            -1.679389        12843.334290           4.132337   \n",
       "427            -6.987578        11863.683945           4.758562   \n",
       "426             2.671119        12552.054687           5.019308   \n",
       "425            -0.487805        12886.135952           5.019308   \n",
       "..                   ...                 ...                ...   \n",
       "4              -3.108444         4099.660091          -1.568912   \n",
       "3              -7.078831         3947.645179           3.133205   \n",
       "2              -5.306291         3869.466395          10.961882   \n",
       "1               9.208649         4330.178405           7.921647   \n",
       "0               9.422350         4898.771408           2.172455   \n",
       "\n",
       "     unemployment_pct  exports_gdp_pct  imports_gdp_pct  \\\n",
       "429            4.7656        63.595840        98.811293   \n",
       "428            4.7656        63.934426        95.230999   \n",
       "427            2.3062        59.150327       102.287582   \n",
       "426            2.9256        68.231612       103.599374   \n",
       "425            2.9256        61.669243        94.899536   \n",
       "..                ...              ...              ...   \n",
       "4              7.4350        29.195960        48.287640   \n",
       "3              6.6120        11.685690        49.203196   \n",
       "2              5.0480        12.266383        52.716798   \n",
       "1              4.9770        28.753800        61.903681   \n",
       "0              4.5510        29.315509        53.816154   \n",
       "\n",
       "     fiscal_balance_gdp_pct  fdi_inflow_gdp_pct  \n",
       "429                1.998238            2.689566  \n",
       "428                1.998238            2.689566  \n",
       "427                2.594881            0.222758  \n",
       "426                3.574335            1.286643  \n",
       "425                3.574335            1.286643  \n",
       "..                      ...                 ...  \n",
       "4                  7.638424            0.509390  \n",
       "3                  0.983685            1.060395  \n",
       "2                  6.559183            0.576323  \n",
       "1                  4.885785            0.255376  \n",
       "0                  1.149538            0.350274  \n",
       "\n",
       "[430 rows x 14 columns]"
      ]
     },
     "execution_count": 10,
     "metadata": {},
     "output_type": "execute_result"
    }
   ],
   "source": [
    "#knn imputation\n",
    "from sklearn.impute import KNNImputer\n",
    "imputer = KNNImputer(n_neighbors=5)\n",
    "df_imputed = df.copy()\n",
    "df_imputed[value_cols] = imputer.fit_transform(df[value_cols])\n",
    "df_imputed"
   ]
  },
  {
   "cell_type": "code",
   "execution_count": 11,
   "id": "b33b59a4",
   "metadata": {},
   "outputs": [],
   "source": [
    "from sklearn.cluster import KMeans\n",
    "from sklearn.preprocessing import StandardScaler\n",
    "from scipy.optimize import linear_sum_assignment\n",
    "from scipy.spatial.distance import cdist\n",
    "import numpy as np\n",
    "import pandas as pd\n",
    "\n",
    "\n",
    "def kmeans_by_year_stable(df, value_cols, k=4, random_state=42, align='overlap'):\n",
    "    \"\"\"\n",
    "    稳定版：全局标准化 → 每年KMeans（若可用则用上一年质心做 init）→ 逐年对齐\n",
    "    align: 'overlap'（推荐，更稳）或 'dist'（用质心欧氏距离）\n",
    "    \"\"\"\n",
    "    base = df.copy()\n",
    "\n",
    "    # 1) 全局标准化（关键：把所有年份放到同一坐标系）\n",
    "    scaler = StandardScaler().fit(base[value_cols].values)\n",
    "    base_std = base.copy()\n",
    "    base_std[value_cols] = scaler.transform(base[value_cols].values)\n",
    "\n",
    "    years = sorted(base_std['year'].unique())\n",
    "    n = len(base_std)\n",
    "    labels_raw = np.full(n, -1, dtype=int)\n",
    "    labels_aln = np.full(n, -1, dtype=int)\n",
    "\n",
    "    prev_centers = None\n",
    "    prev_year = None\n",
    "\n",
    "    for y in years:\n",
    "        idx = (base_std['year'] == y).values\n",
    "        Xy  = base_std.loc[idx, value_cols].values\n",
    "        iso_y = base_std.loc[idx, 'iso3'].astype(str).values\n",
    "\n",
    "        k_eff = min(k, max(1, Xy.shape[0]))\n",
    "\n",
    "        # 2) 以“上一年质心”作为初始化（若簇数不一致则退化为默认初始化）\n",
    "        use_init = False\n",
    "        init_centers = None\n",
    "        if prev_centers is not None and prev_centers.shape[0] == k_eff:\n",
    "            init_centers = prev_centers\n",
    "            use_init = True\n",
    "\n",
    "        km = KMeans(\n",
    "            n_clusters=k_eff,\n",
    "            init=init_centers if use_init else 'k-means++',\n",
    "            n_init=1 if use_init else 10,\n",
    "            random_state=random_state\n",
    "        )\n",
    "        raw_y = km.fit_predict(Xy)\n",
    "        centers_y = km.cluster_centers_\n",
    "        labels_raw[idx] = raw_y\n",
    "\n",
    "        # 3) 对齐\n",
    "        if prev_year is None:\n",
    "            # 基准年：aligned = raw\n",
    "            labels_aln[idx] = raw_y\n",
    "        else:\n",
    "            if align == 'overlap':\n",
    "                # —— 成员重叠最大化（推荐）——\n",
    "                prev_idx = (base_std['year'] == prev_year).values\n",
    "                iso_prev = base_std.loc[prev_idx, 'iso3'].astype(str).values\n",
    "                prev_aln = labels_aln[prev_idx].astype(int)\n",
    "\n",
    "                # 只在两年都出现的 iso 上统计交叉表\n",
    "                inter = np.intersect1d(iso_prev, iso_y)\n",
    "                if len(inter) == 0:\n",
    "                    # 若没有交集，退化为距离对齐\n",
    "                    C = cdist(prev_centers, centers_y, metric='euclidean')\n",
    "                    row_ind, col_ind = linear_sum_assignment(C)\n",
    "                    mapping = {int(col_ind[j]): int(row_ind[j]) for j in range(len(row_ind))}\n",
    "                else:\n",
    "                    # 把 label 值映射到 [0..a-1]，避免标签不连续导致矩阵越界\n",
    "                    prev_series = pd.Series(prev_aln, index=iso_prev).loc[inter]\n",
    "                    cur_series  = pd.Series(raw_y,   index=iso_y ).loc[inter]\n",
    "                    prev_codes, prev_uniques = pd.factorize(prev_series.values)\n",
    "                    cur_codes,  cur_uniques  = pd.factorize(cur_series.values)\n",
    "\n",
    "                    C_count = np.zeros((len(prev_uniques), len(cur_uniques)), dtype=int)\n",
    "                    for i, j in zip(prev_codes, cur_codes):\n",
    "                        C_count[i, j] += 1\n",
    "\n",
    "                    # 匈牙利：最大化重叠 => 最小化 -count\n",
    "                    row_ind, col_ind = linear_sum_assignment(-C_count)\n",
    "                    # 把“curr唯一标签值”映射到“prev唯一标签值”\n",
    "                    mapping = {int(cur_uniques[col_ind[j]]): int(prev_uniques[row_ind[j]])\n",
    "                               for j in range(len(row_ind))}\n",
    "            else:\n",
    "                # —— 质心距离对齐（修复：不再用 prev_idx）——\n",
    "                # 直接用上一年的质心矩阵与今年质心矩阵做 cdist\n",
    "                C = cdist(prev_centers, centers_y, metric='euclidean')\n",
    "                row_ind, col_ind = linear_sum_assignment(C)\n",
    "                mapping = {int(col_ind[j]): int(row_ind[j]) for j in range(len(row_ind))}\n",
    "\n",
    "            # 应用映射；若有未匹配的簇 id，则保持原样\n",
    "            aligned_y = np.array([mapping.get(int(c), int(c)) for c in raw_y], dtype=int)\n",
    "            labels_aln[idx] = aligned_y\n",
    "\n",
    "        # 4) 更新 prev 信息\n",
    "        prev_centers = centers_y\n",
    "        prev_year = y\n",
    "\n",
    "    out = df.copy()\n",
    "    out['cluster_raw'] = labels_raw\n",
    "    out['cluster_aligned'] = labels_aln\n",
    "\n",
    "    \n",
    "    return out"
   ]
  },
  {
   "cell_type": "code",
   "execution_count": 12,
   "id": "93892582",
   "metadata": {},
   "outputs": [],
   "source": [
    "def add_taiwan(df):\n",
    "    for y in sorted(df['year'].unique()):\n",
    "        has_twn = ((df['iso3'] == 'TWN') & (df['year'] == y)).any()\n",
    "        if not has_twn:\n",
    "            chn_row = df[(df['iso3']=='CHN') & (df['year']==y)]\n",
    "            if not chn_row.empty:\n",
    "                taiwan_row = chn_row.copy()\n",
    "                taiwan_row['iso3'] = 'TWN'\n",
    "                df = pd.concat([df, taiwan_row], ignore_index=True)\n",
    "    return df\n"
   ]
  },
  {
   "cell_type": "code",
   "execution_count": 13,
   "id": "2758bc2f",
   "metadata": {},
   "outputs": [],
   "source": [
    "\n",
    "def kmeans_by_all_years(df, k = 4):\n",
    "    df_clustered = df.copy()\n",
    "    X = StandardScaler().fit_transform(df[value_cols].values)\n",
    "    kmeans = KMeans(n_clusters=k, random_state=42, n_init=10).fit(X)\n",
    "    df_clustered['cluster'] = kmeans.labels_\n",
    "    return df_clustered\n",
    "\n",
    "\n",
    "df_clustered_year = kmeans_by_year_stable(\n",
    "    df_imputed, value_cols=value_cols, k=4, random_state=42, align='overlap'\n",
    ")\n",
    "df_clustered_year.drop(columns=['cluster_raw'], inplace=True)\n",
    "df_clustered_year.to_csv('apac_wdi_10y_kmeans_by_year_stable_k4.csv', index=False)\n",
    "\n",
    "df_clustered_year = add_taiwan(df_clustered_year)\n",
    "\n",
    "for y in sorted(df_clustered_year['year'].unique()):\n",
    "    has_twn = ((df_clustered_year['iso3'] == 'TWN') & (df_clustered_year['year'] == y)).any()\n",
    "    if not has_twn:\n",
    "        chn_row = df_clustered_year[(df_clustered_year['iso3']=='CHN') & (df_clustered_year['year']==y)]\n",
    "        if not chn_row.empty:\n",
    "            taiwan_row = chn_row.copy()\n",
    "            taiwan_row['iso3'] = 'TWN'\n",
    "            df_clustered_year = pd.concat([df_clustered_year, taiwan_row], ignore_index=True)\n"
   ]
  },
  {
   "cell_type": "code",
   "execution_count": 14,
   "id": "52ee0d88",
   "metadata": {},
   "outputs": [],
   "source": [
    "import plotly.express as px\n"
   ]
  },
  {
   "cell_type": "code",
   "execution_count": 15,
   "id": "24b8115b",
   "metadata": {},
   "outputs": [
    {
     "data": {
      "application/vnd.plotly.v1+json": {
       "config": {
        "plotlyServerURL": "https://plot.ly"
       },
       "data": [
        {
         "colorscale": [
          [
           0,
           "rgb(102,194,165)"
          ],
          [
           1,
           "rgb(102,194,165)"
          ]
         ],
         "geo": "geo",
         "hovertemplate": "<b>%{hovertext}</b><br><br>cluster_aligned=0<br>year=2015<br>iso3=%{location}<extra></extra>",
         "hovertext": [
          "American Samoa",
          "Bangladesh",
          "Bhutan",
          "Fiji",
          "Micronesia, Fed. Sts.",
          "Indonesia",
          "Cambodia",
          "Lao PDR",
          "Sri Lanka",
          "Maldives",
          "Marshall Islands",
          "Myanmar",
          "Mongolia",
          "Northern Mariana Islands",
          "Malaysia",
          "Nauru",
          "Philippines",
          "Palau",
          "Papua New Guinea",
          "Korea, Dem. People's Rep.",
          "Solomon Islands",
          "Thailand",
          "Timor-Leste",
          "Tonga",
          "Tuvalu",
          "Viet Nam",
          "Vanuatu"
         ],
         "locationmode": "ISO-3",
         "locations": [
          "ASM",
          "BGD",
          "BTN",
          "FJI",
          "FSM",
          "IDN",
          "KHM",
          "LAO",
          "LKA",
          "MDV",
          "MHL",
          "MMR",
          "MNG",
          "MNP",
          "MYS",
          "NRU",
          "PHL",
          "PLW",
          "PNG",
          "PRK",
          "SLB",
          "THA",
          "TLS",
          "TON",
          "TUV",
          "VNM",
          "VUT"
         ],
         "name": "0",
         "showlegend": true,
         "showscale": false,
         "type": "choropleth",
         "z": [
          1,
          1,
          1,
          1,
          1,
          1,
          1,
          1,
          1,
          1,
          1,
          1,
          1,
          1,
          1,
          1,
          1,
          1,
          1,
          1,
          1,
          1,
          1,
          1,
          1,
          1,
          1
         ]
        },
        {
         "colorscale": [
          [
           0,
           "rgb(252,141,98)"
          ],
          [
           1,
           "rgb(252,141,98)"
          ]
         ],
         "geo": "geo",
         "hovertemplate": "<b>%{hovertext}</b><br><br>cluster_aligned=1<br>year=2015<br>iso3=%{location}<extra></extra>",
         "hovertext": [
          "Hong Kong SAR, China",
          "Singapore"
         ],
         "locationmode": "ISO-3",
         "locations": [
          "HKG",
          "SGP"
         ],
         "name": "1",
         "showlegend": true,
         "showscale": false,
         "type": "choropleth",
         "z": [
          1,
          1
         ]
        },
        {
         "colorscale": [
          [
           0,
           "rgb(141,160,203)"
          ],
          [
           1,
           "rgb(141,160,203)"
          ]
         ],
         "geo": "geo",
         "hovertemplate": "<b>%{hovertext}</b><br><br>cluster_aligned=2<br>year=2015<br>iso3=%{location}<extra></extra>",
         "hovertext": [
          "Kiribati"
         ],
         "locationmode": "ISO-3",
         "locations": [
          "KIR"
         ],
         "name": "2",
         "showlegend": true,
         "showscale": false,
         "type": "choropleth",
         "z": [
          1
         ]
        },
        {
         "colorscale": [
          [
           0,
           "rgb(231,138,195)"
          ],
          [
           1,
           "rgb(231,138,195)"
          ]
         ],
         "geo": "geo",
         "hovertemplate": "<b>%{hovertext}</b><br><br>cluster_aligned=3<br>year=2015<br>iso3=%{location}<extra></extra>",
         "hovertext": [
          "Australia",
          "Brunei Darussalam",
          "China",
          "Guam",
          "India",
          "Japan",
          "Korea, Rep.",
          "Macao SAR, China",
          "New Caledonia",
          "Nepal",
          "New Zealand",
          "French Polynesia",
          "Samoa",
          "China"
         ],
         "locationmode": "ISO-3",
         "locations": [
          "AUS",
          "BRN",
          "CHN",
          "GUM",
          "IND",
          "JPN",
          "KOR",
          "MAC",
          "NCL",
          "NPL",
          "NZL",
          "PYF",
          "WSM",
          "TWN"
         ],
         "name": "3",
         "showlegend": true,
         "showscale": false,
         "type": "choropleth",
         "z": [
          1,
          1,
          1,
          1,
          1,
          1,
          1,
          1,
          1,
          1,
          1,
          1,
          1,
          1
         ]
        },
        {
         "hoverinfo": "text",
         "lat": [
          22.3193,
          1.3521
         ],
         "lon": [
          114.1694,
          103.8198
         ],
         "marker": {
          "color": [
           "rgb(252,141,98)",
           "rgb(252,141,98)"
          ],
          "line": {
           "color": "rgba(0,0,0,0.6)",
           "width": 0.6
          },
          "size": 10
         },
         "mode": "markers",
         "showlegend": false,
         "text": [
          "Hong Kong SAR, China | group 1",
          "Singapore | group 1"
         ],
         "type": "scattergeo"
        }
       ],
       "frames": [
        {
         "data": [
          {
           "colorscale": [
            [
             0,
             "rgb(102,194,165)"
            ],
            [
             1,
             "rgb(102,194,165)"
            ]
           ],
           "geo": "geo",
           "hovertemplate": "<b>%{hovertext}</b><br><br>cluster_aligned=0<br>year=2015<br>iso3=%{location}<extra></extra>",
           "hovertext": [
            "American Samoa",
            "Bangladesh",
            "Bhutan",
            "Fiji",
            "Micronesia, Fed. Sts.",
            "Indonesia",
            "Cambodia",
            "Lao PDR",
            "Sri Lanka",
            "Maldives",
            "Marshall Islands",
            "Myanmar",
            "Mongolia",
            "Northern Mariana Islands",
            "Malaysia",
            "Nauru",
            "Philippines",
            "Palau",
            "Papua New Guinea",
            "Korea, Dem. People's Rep.",
            "Solomon Islands",
            "Thailand",
            "Timor-Leste",
            "Tonga",
            "Tuvalu",
            "Viet Nam",
            "Vanuatu"
           ],
           "locationmode": "ISO-3",
           "locations": [
            "ASM",
            "BGD",
            "BTN",
            "FJI",
            "FSM",
            "IDN",
            "KHM",
            "LAO",
            "LKA",
            "MDV",
            "MHL",
            "MMR",
            "MNG",
            "MNP",
            "MYS",
            "NRU",
            "PHL",
            "PLW",
            "PNG",
            "PRK",
            "SLB",
            "THA",
            "TLS",
            "TON",
            "TUV",
            "VNM",
            "VUT"
           ],
           "name": "0",
           "showlegend": true,
           "showscale": false,
           "type": "choropleth",
           "z": [
            1,
            1,
            1,
            1,
            1,
            1,
            1,
            1,
            1,
            1,
            1,
            1,
            1,
            1,
            1,
            1,
            1,
            1,
            1,
            1,
            1,
            1,
            1,
            1,
            1,
            1,
            1
           ]
          },
          {
           "colorscale": [
            [
             0,
             "rgb(252,141,98)"
            ],
            [
             1,
             "rgb(252,141,98)"
            ]
           ],
           "geo": "geo",
           "hovertemplate": "<b>%{hovertext}</b><br><br>cluster_aligned=1<br>year=2015<br>iso3=%{location}<extra></extra>",
           "hovertext": [
            "Hong Kong SAR, China",
            "Singapore"
           ],
           "locationmode": "ISO-3",
           "locations": [
            "HKG",
            "SGP"
           ],
           "name": "1",
           "showlegend": true,
           "showscale": false,
           "type": "choropleth",
           "z": [
            1,
            1
           ]
          },
          {
           "colorscale": [
            [
             0,
             "rgb(141,160,203)"
            ],
            [
             1,
             "rgb(141,160,203)"
            ]
           ],
           "geo": "geo",
           "hovertemplate": "<b>%{hovertext}</b><br><br>cluster_aligned=2<br>year=2015<br>iso3=%{location}<extra></extra>",
           "hovertext": [
            "Kiribati"
           ],
           "locationmode": "ISO-3",
           "locations": [
            "KIR"
           ],
           "name": "2",
           "showlegend": true,
           "showscale": false,
           "type": "choropleth",
           "z": [
            1
           ]
          },
          {
           "colorscale": [
            [
             0,
             "rgb(231,138,195)"
            ],
            [
             1,
             "rgb(231,138,195)"
            ]
           ],
           "geo": "geo",
           "hovertemplate": "<b>%{hovertext}</b><br><br>cluster_aligned=3<br>year=2015<br>iso3=%{location}<extra></extra>",
           "hovertext": [
            "Australia",
            "Brunei Darussalam",
            "China",
            "Guam",
            "India",
            "Japan",
            "Korea, Rep.",
            "Macao SAR, China",
            "New Caledonia",
            "Nepal",
            "New Zealand",
            "French Polynesia",
            "Samoa",
            "China"
           ],
           "locationmode": "ISO-3",
           "locations": [
            "AUS",
            "BRN",
            "CHN",
            "GUM",
            "IND",
            "JPN",
            "KOR",
            "MAC",
            "NCL",
            "NPL",
            "NZL",
            "PYF",
            "WSM",
            "TWN"
           ],
           "name": "3",
           "showlegend": true,
           "showscale": false,
           "type": "choropleth",
           "z": [
            1,
            1,
            1,
            1,
            1,
            1,
            1,
            1,
            1,
            1,
            1,
            1,
            1,
            1
           ]
          },
          {
           "hoverinfo": "text",
           "lat": [
            22.3193,
            1.3521
           ],
           "lon": [
            114.1694,
            103.8198
           ],
           "marker": {
            "color": [
             "rgb(252,141,98)",
             "rgb(252,141,98)"
            ],
            "line": {
             "color": "rgba(0,0,0,0.6)",
             "width": 0.6
            },
            "size": 10
           },
           "mode": "markers",
           "showlegend": false,
           "text": [
            "Hong Kong SAR, China | group 1",
            "Singapore | group 1"
           ],
           "type": "scattergeo"
          }
         ],
         "layout": {
          "geo": {
           "center": {
            "lat": 5,
            "lon": 110
           },
           "lataxis": {
            "range": [
             -70,
             60
            ]
           },
           "lonaxis": {
            "range": [
             0,
             230
            ]
           },
           "projection": {
            "scale": 1.2,
            "type": "equirectangular"
           },
           "showcoastlines": true,
           "showcountries": true
          }
         },
         "name": "2015"
        },
        {
         "data": [
          {
           "colorscale": [
            [
             0,
             "rgb(102,194,165)"
            ],
            [
             1,
             "rgb(102,194,165)"
            ]
           ],
           "geo": "geo",
           "hovertemplate": "<b>%{hovertext}</b><br><br>cluster_aligned=0<br>year=2016<br>iso3=%{location}<extra></extra>",
           "hovertext": [
            "American Samoa",
            "Bangladesh",
            "Bhutan",
            "Fiji",
            "Micronesia, Fed. Sts.",
            "Indonesia",
            "Cambodia",
            "Kiribati",
            "Lao PDR",
            "Sri Lanka",
            "Maldives",
            "Marshall Islands",
            "Myanmar",
            "Northern Mariana Islands",
            "Malaysia",
            "Nauru",
            "Philippines",
            "Palau",
            "Papua New Guinea",
            "Korea, Dem. People's Rep.",
            "Solomon Islands",
            "Thailand",
            "Tonga",
            "Tuvalu",
            "Viet Nam",
            "Vanuatu"
           ],
           "locationmode": "ISO-3",
           "locations": [
            "ASM",
            "BGD",
            "BTN",
            "FJI",
            "FSM",
            "IDN",
            "KHM",
            "KIR",
            "LAO",
            "LKA",
            "MDV",
            "MHL",
            "MMR",
            "MNP",
            "MYS",
            "NRU",
            "PHL",
            "PLW",
            "PNG",
            "PRK",
            "SLB",
            "THA",
            "TON",
            "TUV",
            "VNM",
            "VUT"
           ],
           "name": "0",
           "showlegend": true,
           "showscale": false,
           "type": "choropleth",
           "z": [
            1,
            1,
            1,
            1,
            1,
            1,
            1,
            1,
            1,
            1,
            1,
            1,
            1,
            1,
            1,
            1,
            1,
            1,
            1,
            1,
            1,
            1,
            1,
            1,
            1,
            1
           ]
          },
          {
           "colorscale": [
            [
             0,
             "rgb(252,141,98)"
            ],
            [
             1,
             "rgb(252,141,98)"
            ]
           ],
           "geo": "geo",
           "hovertemplate": "<b>%{hovertext}</b><br><br>cluster_aligned=1<br>year=2016<br>iso3=%{location}<extra></extra>",
           "hovertext": [
            "Hong Kong SAR, China",
            "Singapore"
           ],
           "locationmode": "ISO-3",
           "locations": [
            "HKG",
            "SGP"
           ],
           "name": "1",
           "showlegend": true,
           "showscale": false,
           "type": "choropleth",
           "z": [
            1,
            1
           ]
          },
          {
           "colorscale": [
            [
             0,
             "rgb(141,160,203)"
            ],
            [
             1,
             "rgb(141,160,203)"
            ]
           ],
           "geo": "geo",
           "hovertemplate": "<b>%{hovertext}</b><br><br>cluster_aligned=2<br>year=2016<br>iso3=%{location}<extra></extra>",
           "hovertext": [
            "Timor-Leste"
           ],
           "locationmode": "ISO-3",
           "locations": [
            "TLS"
           ],
           "name": "2",
           "showlegend": true,
           "showscale": false,
           "type": "choropleth",
           "z": [
            1
           ]
          },
          {
           "colorscale": [
            [
             0,
             "rgb(231,138,195)"
            ],
            [
             1,
             "rgb(231,138,195)"
            ]
           ],
           "geo": "geo",
           "hovertemplate": "<b>%{hovertext}</b><br><br>cluster_aligned=3<br>year=2016<br>iso3=%{location}<extra></extra>",
           "hovertext": [
            "Australia",
            "Brunei Darussalam",
            "China",
            "Guam",
            "India",
            "Japan",
            "Korea, Rep.",
            "Macao SAR, China",
            "Mongolia",
            "New Caledonia",
            "Nepal",
            "New Zealand",
            "French Polynesia",
            "Samoa",
            "China"
           ],
           "locationmode": "ISO-3",
           "locations": [
            "AUS",
            "BRN",
            "CHN",
            "GUM",
            "IND",
            "JPN",
            "KOR",
            "MAC",
            "MNG",
            "NCL",
            "NPL",
            "NZL",
            "PYF",
            "WSM",
            "TWN"
           ],
           "name": "3",
           "showlegend": true,
           "showscale": false,
           "type": "choropleth",
           "z": [
            1,
            1,
            1,
            1,
            1,
            1,
            1,
            1,
            1,
            1,
            1,
            1,
            1,
            1,
            1
           ]
          },
          {
           "hoverinfo": "text",
           "lat": [
            22.3193,
            1.3521
           ],
           "lon": [
            114.1694,
            103.8198
           ],
           "marker": {
            "color": [
             "rgb(252,141,98)",
             "rgb(252,141,98)"
            ],
            "line": {
             "color": "rgba(0,0,0,0.6)",
             "width": 0.6
            },
            "size": 10
           },
           "mode": "markers",
           "showlegend": false,
           "text": [
            "Hong Kong SAR, China | group 1",
            "Singapore | group 1"
           ],
           "type": "scattergeo"
          }
         ],
         "layout": {
          "geo": {
           "center": {
            "lat": 5,
            "lon": 110
           },
           "lataxis": {
            "range": [
             -70,
             60
            ]
           },
           "lonaxis": {
            "range": [
             0,
             230
            ]
           },
           "projection": {
            "scale": 1.2,
            "type": "equirectangular"
           },
           "showcoastlines": true,
           "showcountries": true
          }
         },
         "name": "2016"
        },
        {
         "data": [
          {
           "colorscale": [
            [
             0,
             "rgb(102,194,165)"
            ],
            [
             1,
             "rgb(102,194,165)"
            ]
           ],
           "geo": "geo",
           "hovertemplate": "<b>%{hovertext}</b><br><br>cluster_aligned=0<br>year=2017<br>iso3=%{location}<extra></extra>",
           "hovertext": [
            "American Samoa",
            "Bangladesh",
            "Bhutan",
            "Fiji",
            "Micronesia, Fed. Sts.",
            "Indonesia",
            "Cambodia",
            "Kiribati",
            "Lao PDR",
            "Sri Lanka",
            "Maldives",
            "Marshall Islands",
            "Myanmar",
            "Mongolia",
            "Northern Mariana Islands",
            "Malaysia",
            "Nauru",
            "Philippines",
            "Palau",
            "Papua New Guinea",
            "Korea, Dem. People's Rep.",
            "Solomon Islands",
            "Thailand",
            "Timor-Leste",
            "Tonga",
            "Tuvalu",
            "Viet Nam",
            "Vanuatu"
           ],
           "locationmode": "ISO-3",
           "locations": [
            "ASM",
            "BGD",
            "BTN",
            "FJI",
            "FSM",
            "IDN",
            "KHM",
            "KIR",
            "LAO",
            "LKA",
            "MDV",
            "MHL",
            "MMR",
            "MNG",
            "MNP",
            "MYS",
            "NRU",
            "PHL",
            "PLW",
            "PNG",
            "PRK",
            "SLB",
            "THA",
            "TLS",
            "TON",
            "TUV",
            "VNM",
            "VUT"
           ],
           "name": "0",
           "showlegend": true,
           "showscale": false,
           "type": "choropleth",
           "z": [
            1,
            1,
            1,
            1,
            1,
            1,
            1,
            1,
            1,
            1,
            1,
            1,
            1,
            1,
            1,
            1,
            1,
            1,
            1,
            1,
            1,
            1,
            1,
            1,
            1,
            1,
            1,
            1
           ]
          },
          {
           "colorscale": [
            [
             0,
             "rgb(252,141,98)"
            ],
            [
             1,
             "rgb(252,141,98)"
            ]
           ],
           "geo": "geo",
           "hovertemplate": "<b>%{hovertext}</b><br><br>cluster_aligned=1<br>year=2017<br>iso3=%{location}<extra></extra>",
           "hovertext": [
            "Hong Kong SAR, China",
            "Singapore"
           ],
           "locationmode": "ISO-3",
           "locations": [
            "HKG",
            "SGP"
           ],
           "name": "1",
           "showlegend": true,
           "showscale": false,
           "type": "choropleth",
           "z": [
            1,
            1
           ]
          },
          {
           "colorscale": [
            [
             0,
             "rgb(141,160,203)"
            ],
            [
             1,
             "rgb(141,160,203)"
            ]
           ],
           "geo": "geo",
           "hovertemplate": "<b>%{hovertext}</b><br><br>cluster_aligned=2<br>year=2017<br>iso3=%{location}<extra></extra>",
           "hovertext": [
            "China",
            "China"
           ],
           "locationmode": "ISO-3",
           "locations": [
            "CHN",
            "TWN"
           ],
           "name": "2",
           "showlegend": true,
           "showscale": false,
           "type": "choropleth",
           "z": [
            1,
            1
           ]
          },
          {
           "colorscale": [
            [
             0,
             "rgb(231,138,195)"
            ],
            [
             1,
             "rgb(231,138,195)"
            ]
           ],
           "geo": "geo",
           "hovertemplate": "<b>%{hovertext}</b><br><br>cluster_aligned=3<br>year=2017<br>iso3=%{location}<extra></extra>",
           "hovertext": [
            "Australia",
            "Brunei Darussalam",
            "Guam",
            "India",
            "Japan",
            "Korea, Rep.",
            "Macao SAR, China",
            "New Caledonia",
            "Nepal",
            "New Zealand",
            "French Polynesia",
            "Samoa"
           ],
           "locationmode": "ISO-3",
           "locations": [
            "AUS",
            "BRN",
            "GUM",
            "IND",
            "JPN",
            "KOR",
            "MAC",
            "NCL",
            "NPL",
            "NZL",
            "PYF",
            "WSM"
           ],
           "name": "3",
           "showlegend": true,
           "showscale": false,
           "type": "choropleth",
           "z": [
            1,
            1,
            1,
            1,
            1,
            1,
            1,
            1,
            1,
            1,
            1,
            1
           ]
          },
          {
           "hoverinfo": "text",
           "lat": [
            22.3193,
            1.3521
           ],
           "lon": [
            114.1694,
            103.8198
           ],
           "marker": {
            "color": [
             "rgb(252,141,98)",
             "rgb(252,141,98)"
            ],
            "line": {
             "color": "rgba(0,0,0,0.6)",
             "width": 0.6
            },
            "size": 10
           },
           "mode": "markers",
           "showlegend": false,
           "text": [
            "Hong Kong SAR, China | group 1",
            "Singapore | group 1"
           ],
           "type": "scattergeo"
          }
         ],
         "layout": {
          "geo": {
           "center": {
            "lat": 5,
            "lon": 110
           },
           "lataxis": {
            "range": [
             -70,
             60
            ]
           },
           "lonaxis": {
            "range": [
             0,
             230
            ]
           },
           "projection": {
            "scale": 1.2,
            "type": "equirectangular"
           },
           "showcoastlines": true,
           "showcountries": true
          }
         },
         "name": "2017"
        },
        {
         "data": [
          {
           "colorscale": [
            [
             0,
             "rgb(102,194,165)"
            ],
            [
             1,
             "rgb(102,194,165)"
            ]
           ],
           "geo": "geo",
           "hovertemplate": "<b>%{hovertext}</b><br><br>cluster_aligned=0<br>year=2018<br>iso3=%{location}<extra></extra>",
           "hovertext": [
            "American Samoa",
            "Bangladesh",
            "Bhutan",
            "Fiji",
            "Micronesia, Fed. Sts.",
            "Indonesia",
            "Cambodia",
            "Kiribati",
            "Lao PDR",
            "Sri Lanka",
            "Maldives",
            "Marshall Islands",
            "Myanmar",
            "Mongolia",
            "Northern Mariana Islands",
            "Malaysia",
            "Nauru",
            "Philippines",
            "Palau",
            "Papua New Guinea",
            "Korea, Dem. People's Rep.",
            "Solomon Islands",
            "Thailand",
            "Timor-Leste",
            "Tonga",
            "Tuvalu",
            "Viet Nam",
            "Vanuatu"
           ],
           "locationmode": "ISO-3",
           "locations": [
            "ASM",
            "BGD",
            "BTN",
            "FJI",
            "FSM",
            "IDN",
            "KHM",
            "KIR",
            "LAO",
            "LKA",
            "MDV",
            "MHL",
            "MMR",
            "MNG",
            "MNP",
            "MYS",
            "NRU",
            "PHL",
            "PLW",
            "PNG",
            "PRK",
            "SLB",
            "THA",
            "TLS",
            "TON",
            "TUV",
            "VNM",
            "VUT"
           ],
           "name": "0",
           "showlegend": true,
           "showscale": false,
           "type": "choropleth",
           "z": [
            1,
            1,
            1,
            1,
            1,
            1,
            1,
            1,
            1,
            1,
            1,
            1,
            1,
            1,
            1,
            1,
            1,
            1,
            1,
            1,
            1,
            1,
            1,
            1,
            1,
            1,
            1,
            1
           ]
          },
          {
           "colorscale": [
            [
             0,
             "rgb(252,141,98)"
            ],
            [
             1,
             "rgb(252,141,98)"
            ]
           ],
           "geo": "geo",
           "hovertemplate": "<b>%{hovertext}</b><br><br>cluster_aligned=1<br>year=2018<br>iso3=%{location}<extra></extra>",
           "hovertext": [
            "Hong Kong SAR, China",
            "Singapore"
           ],
           "locationmode": "ISO-3",
           "locations": [
            "HKG",
            "SGP"
           ],
           "name": "1",
           "showlegend": true,
           "showscale": false,
           "type": "choropleth",
           "z": [
            1,
            1
           ]
          },
          {
           "colorscale": [
            [
             0,
             "rgb(141,160,203)"
            ],
            [
             1,
             "rgb(141,160,203)"
            ]
           ],
           "geo": "geo",
           "hovertemplate": "<b>%{hovertext}</b><br><br>cluster_aligned=2<br>year=2018<br>iso3=%{location}<extra></extra>",
           "hovertext": [
            "China",
            "China"
           ],
           "locationmode": "ISO-3",
           "locations": [
            "CHN",
            "TWN"
           ],
           "name": "2",
           "showlegend": true,
           "showscale": false,
           "type": "choropleth",
           "z": [
            1,
            1
           ]
          },
          {
           "colorscale": [
            [
             0,
             "rgb(231,138,195)"
            ],
            [
             1,
             "rgb(231,138,195)"
            ]
           ],
           "geo": "geo",
           "hovertemplate": "<b>%{hovertext}</b><br><br>cluster_aligned=3<br>year=2018<br>iso3=%{location}<extra></extra>",
           "hovertext": [
            "Australia",
            "Brunei Darussalam",
            "Guam",
            "India",
            "Japan",
            "Korea, Rep.",
            "Macao SAR, China",
            "New Caledonia",
            "Nepal",
            "New Zealand",
            "French Polynesia",
            "Samoa"
           ],
           "locationmode": "ISO-3",
           "locations": [
            "AUS",
            "BRN",
            "GUM",
            "IND",
            "JPN",
            "KOR",
            "MAC",
            "NCL",
            "NPL",
            "NZL",
            "PYF",
            "WSM"
           ],
           "name": "3",
           "showlegend": true,
           "showscale": false,
           "type": "choropleth",
           "z": [
            1,
            1,
            1,
            1,
            1,
            1,
            1,
            1,
            1,
            1,
            1,
            1
           ]
          },
          {
           "hoverinfo": "text",
           "lat": [
            22.3193,
            1.3521
           ],
           "lon": [
            114.1694,
            103.8198
           ],
           "marker": {
            "color": [
             "rgb(252,141,98)",
             "rgb(252,141,98)"
            ],
            "line": {
             "color": "rgba(0,0,0,0.6)",
             "width": 0.6
            },
            "size": 10
           },
           "mode": "markers",
           "showlegend": false,
           "text": [
            "Hong Kong SAR, China | group 1",
            "Singapore | group 1"
           ],
           "type": "scattergeo"
          }
         ],
         "layout": {
          "geo": {
           "center": {
            "lat": 5,
            "lon": 110
           },
           "lataxis": {
            "range": [
             -70,
             60
            ]
           },
           "lonaxis": {
            "range": [
             0,
             230
            ]
           },
           "projection": {
            "scale": 1.2,
            "type": "equirectangular"
           },
           "showcoastlines": true,
           "showcountries": true
          }
         },
         "name": "2018"
        },
        {
         "data": [
          {
           "colorscale": [
            [
             0,
             "rgb(102,194,165)"
            ],
            [
             1,
             "rgb(102,194,165)"
            ]
           ],
           "geo": "geo",
           "hovertemplate": "<b>%{hovertext}</b><br><br>cluster_aligned=0<br>year=2019<br>iso3=%{location}<extra></extra>",
           "hovertext": [
            "American Samoa",
            "Bangladesh",
            "Bhutan",
            "Fiji",
            "Micronesia, Fed. Sts.",
            "Indonesia",
            "Cambodia",
            "Kiribati",
            "Lao PDR",
            "Maldives",
            "Marshall Islands",
            "Myanmar",
            "Malaysia",
            "Nauru",
            "Philippines",
            "Palau",
            "Papua New Guinea",
            "Korea, Dem. People's Rep.",
            "Solomon Islands",
            "Thailand",
            "Timor-Leste",
            "Tonga",
            "Tuvalu",
            "Viet Nam",
            "Vanuatu"
           ],
           "locationmode": "ISO-3",
           "locations": [
            "ASM",
            "BGD",
            "BTN",
            "FJI",
            "FSM",
            "IDN",
            "KHM",
            "KIR",
            "LAO",
            "MDV",
            "MHL",
            "MMR",
            "MYS",
            "NRU",
            "PHL",
            "PLW",
            "PNG",
            "PRK",
            "SLB",
            "THA",
            "TLS",
            "TON",
            "TUV",
            "VNM",
            "VUT"
           ],
           "name": "0",
           "showlegend": true,
           "showscale": false,
           "type": "choropleth",
           "z": [
            1,
            1,
            1,
            1,
            1,
            1,
            1,
            1,
            1,
            1,
            1,
            1,
            1,
            1,
            1,
            1,
            1,
            1,
            1,
            1,
            1,
            1,
            1,
            1,
            1
           ]
          },
          {
           "colorscale": [
            [
             0,
             "rgb(252,141,98)"
            ],
            [
             1,
             "rgb(252,141,98)"
            ]
           ],
           "geo": "geo",
           "hovertemplate": "<b>%{hovertext}</b><br><br>cluster_aligned=1<br>year=2019<br>iso3=%{location}<extra></extra>",
           "hovertext": [
            "Hong Kong SAR, China",
            "Singapore"
           ],
           "locationmode": "ISO-3",
           "locations": [
            "HKG",
            "SGP"
           ],
           "name": "1",
           "showlegend": true,
           "showscale": false,
           "type": "choropleth",
           "z": [
            1,
            1
           ]
          },
          {
           "colorscale": [
            [
             0,
             "rgb(141,160,203)"
            ],
            [
             1,
             "rgb(141,160,203)"
            ]
           ],
           "geo": "geo",
           "hovertemplate": "<b>%{hovertext}</b><br><br>cluster_aligned=2<br>year=2019<br>iso3=%{location}<extra></extra>",
           "hovertext": [
            "China",
            "China"
           ],
           "locationmode": "ISO-3",
           "locations": [
            "CHN",
            "TWN"
           ],
           "name": "2",
           "showlegend": true,
           "showscale": false,
           "type": "choropleth",
           "z": [
            1,
            1
           ]
          },
          {
           "colorscale": [
            [
             0,
             "rgb(231,138,195)"
            ],
            [
             1,
             "rgb(231,138,195)"
            ]
           ],
           "geo": "geo",
           "hovertemplate": "<b>%{hovertext}</b><br><br>cluster_aligned=3<br>year=2019<br>iso3=%{location}<extra></extra>",
           "hovertext": [
            "Australia",
            "Brunei Darussalam",
            "Guam",
            "India",
            "Japan",
            "Korea, Rep.",
            "Sri Lanka",
            "Macao SAR, China",
            "Mongolia",
            "Northern Mariana Islands",
            "New Caledonia",
            "Nepal",
            "New Zealand",
            "French Polynesia",
            "Samoa"
           ],
           "locationmode": "ISO-3",
           "locations": [
            "AUS",
            "BRN",
            "GUM",
            "IND",
            "JPN",
            "KOR",
            "LKA",
            "MAC",
            "MNG",
            "MNP",
            "NCL",
            "NPL",
            "NZL",
            "PYF",
            "WSM"
           ],
           "name": "3",
           "showlegend": true,
           "showscale": false,
           "type": "choropleth",
           "z": [
            1,
            1,
            1,
            1,
            1,
            1,
            1,
            1,
            1,
            1,
            1,
            1,
            1,
            1,
            1
           ]
          },
          {
           "hoverinfo": "text",
           "lat": [
            22.3193,
            1.3521
           ],
           "lon": [
            114.1694,
            103.8198
           ],
           "marker": {
            "color": [
             "rgb(252,141,98)",
             "rgb(252,141,98)"
            ],
            "line": {
             "color": "rgba(0,0,0,0.6)",
             "width": 0.6
            },
            "size": 10
           },
           "mode": "markers",
           "showlegend": false,
           "text": [
            "Hong Kong SAR, China | group 1",
            "Singapore | group 1"
           ],
           "type": "scattergeo"
          }
         ],
         "layout": {
          "geo": {
           "center": {
            "lat": 5,
            "lon": 110
           },
           "lataxis": {
            "range": [
             -70,
             60
            ]
           },
           "lonaxis": {
            "range": [
             0,
             230
            ]
           },
           "projection": {
            "scale": 1.2,
            "type": "equirectangular"
           },
           "showcoastlines": true,
           "showcountries": true
          }
         },
         "name": "2019"
        },
        {
         "data": [
          {
           "colorscale": [
            [
             0,
             "rgb(102,194,165)"
            ],
            [
             1,
             "rgb(102,194,165)"
            ]
           ],
           "geo": "geo",
           "hovertemplate": "<b>%{hovertext}</b><br><br>cluster_aligned=0<br>year=2020<br>iso3=%{location}<extra></extra>",
           "hovertext": [
            "American Samoa",
            "Bangladesh",
            "Micronesia, Fed. Sts.",
            "Indonesia",
            "Cambodia",
            "Kiribati",
            "Korea, Rep.",
            "Lao PDR",
            "Marshall Islands",
            "Myanmar",
            "Malaysia",
            "Nauru",
            "Philippines",
            "Palau",
            "Papua New Guinea",
            "Korea, Dem. People's Rep.",
            "Solomon Islands",
            "Thailand",
            "Timor-Leste",
            "Tonga",
            "Tuvalu",
            "Viet Nam",
            "Vanuatu",
            "Samoa"
           ],
           "locationmode": "ISO-3",
           "locations": [
            "ASM",
            "BGD",
            "FSM",
            "IDN",
            "KHM",
            "KIR",
            "KOR",
            "LAO",
            "MHL",
            "MMR",
            "MYS",
            "NRU",
            "PHL",
            "PLW",
            "PNG",
            "PRK",
            "SLB",
            "THA",
            "TLS",
            "TON",
            "TUV",
            "VNM",
            "VUT",
            "WSM"
           ],
           "name": "0",
           "showlegend": true,
           "showscale": false,
           "type": "choropleth",
           "z": [
            1,
            1,
            1,
            1,
            1,
            1,
            1,
            1,
            1,
            1,
            1,
            1,
            1,
            1,
            1,
            1,
            1,
            1,
            1,
            1,
            1,
            1,
            1,
            1
           ]
          },
          {
           "colorscale": [
            [
             0,
             "rgb(252,141,98)"
            ],
            [
             1,
             "rgb(252,141,98)"
            ]
           ],
           "geo": "geo",
           "hovertemplate": "<b>%{hovertext}</b><br><br>cluster_aligned=1<br>year=2020<br>iso3=%{location}<extra></extra>",
           "hovertext": [
            "Hong Kong SAR, China",
            "Singapore"
           ],
           "locationmode": "ISO-3",
           "locations": [
            "HKG",
            "SGP"
           ],
           "name": "1",
           "showlegend": true,
           "showscale": false,
           "type": "choropleth",
           "z": [
            1,
            1
           ]
          },
          {
           "colorscale": [
            [
             0,
             "rgb(141,160,203)"
            ],
            [
             1,
             "rgb(141,160,203)"
            ]
           ],
           "geo": "geo",
           "hovertemplate": "<b>%{hovertext}</b><br><br>cluster_aligned=2<br>year=2020<br>iso3=%{location}<extra></extra>",
           "hovertext": [
            "China",
            "China"
           ],
           "locationmode": "ISO-3",
           "locations": [
            "CHN",
            "TWN"
           ],
           "name": "2",
           "showlegend": true,
           "showscale": false,
           "type": "choropleth",
           "z": [
            1,
            1
           ]
          },
          {
           "colorscale": [
            [
             0,
             "rgb(231,138,195)"
            ],
            [
             1,
             "rgb(231,138,195)"
            ]
           ],
           "geo": "geo",
           "hovertemplate": "<b>%{hovertext}</b><br><br>cluster_aligned=3<br>year=2020<br>iso3=%{location}<extra></extra>",
           "hovertext": [
            "Australia",
            "Brunei Darussalam",
            "Bhutan",
            "Fiji",
            "Guam",
            "India",
            "Japan",
            "Sri Lanka",
            "Macao SAR, China",
            "Maldives",
            "Mongolia",
            "Northern Mariana Islands",
            "New Caledonia",
            "Nepal",
            "New Zealand",
            "French Polynesia"
           ],
           "locationmode": "ISO-3",
           "locations": [
            "AUS",
            "BRN",
            "BTN",
            "FJI",
            "GUM",
            "IND",
            "JPN",
            "LKA",
            "MAC",
            "MDV",
            "MNG",
            "MNP",
            "NCL",
            "NPL",
            "NZL",
            "PYF"
           ],
           "name": "3",
           "showlegend": true,
           "showscale": false,
           "type": "choropleth",
           "z": [
            1,
            1,
            1,
            1,
            1,
            1,
            1,
            1,
            1,
            1,
            1,
            1,
            1,
            1,
            1,
            1
           ]
          },
          {
           "hoverinfo": "text",
           "lat": [
            22.3193,
            1.3521
           ],
           "lon": [
            114.1694,
            103.8198
           ],
           "marker": {
            "color": [
             "rgb(252,141,98)",
             "rgb(252,141,98)"
            ],
            "line": {
             "color": "rgba(0,0,0,0.6)",
             "width": 0.6
            },
            "size": 10
           },
           "mode": "markers",
           "showlegend": false,
           "text": [
            "Hong Kong SAR, China | group 1",
            "Singapore | group 1"
           ],
           "type": "scattergeo"
          }
         ],
         "layout": {
          "geo": {
           "center": {
            "lat": 5,
            "lon": 110
           },
           "lataxis": {
            "range": [
             -70,
             60
            ]
           },
           "lonaxis": {
            "range": [
             0,
             230
            ]
           },
           "projection": {
            "scale": 1.2,
            "type": "equirectangular"
           },
           "showcoastlines": true,
           "showcountries": true
          }
         },
         "name": "2020"
        },
        {
         "data": [
          {
           "colorscale": [
            [
             0,
             "rgb(102,194,165)"
            ],
            [
             1,
             "rgb(102,194,165)"
            ]
           ],
           "geo": "geo",
           "hovertemplate": "<b>%{hovertext}</b><br><br>cluster_aligned=0<br>year=2021<br>iso3=%{location}<extra></extra>",
           "hovertext": [
            "American Samoa",
            "Bangladesh",
            "Brunei Darussalam",
            "Bhutan",
            "Micronesia, Fed. Sts.",
            "Indonesia",
            "India",
            "Japan",
            "Cambodia",
            "Kiribati",
            "Korea, Rep.",
            "Lao PDR",
            "Sri Lanka",
            "Macao SAR, China",
            "Maldives",
            "Marshall Islands",
            "Northern Mariana Islands",
            "Malaysia",
            "Nauru",
            "New Zealand",
            "Philippines",
            "Palau",
            "Papua New Guinea",
            "Korea, Dem. People's Rep.",
            "Solomon Islands",
            "Thailand",
            "Timor-Leste",
            "Tonga",
            "Tuvalu",
            "Viet Nam",
            "Vanuatu"
           ],
           "locationmode": "ISO-3",
           "locations": [
            "ASM",
            "BGD",
            "BRN",
            "BTN",
            "FSM",
            "IDN",
            "IND",
            "JPN",
            "KHM",
            "KIR",
            "KOR",
            "LAO",
            "LKA",
            "MAC",
            "MDV",
            "MHL",
            "MNP",
            "MYS",
            "NRU",
            "NZL",
            "PHL",
            "PLW",
            "PNG",
            "PRK",
            "SLB",
            "THA",
            "TLS",
            "TON",
            "TUV",
            "VNM",
            "VUT"
           ],
           "name": "0",
           "showlegend": true,
           "showscale": false,
           "type": "choropleth",
           "z": [
            1,
            1,
            1,
            1,
            1,
            1,
            1,
            1,
            1,
            1,
            1,
            1,
            1,
            1,
            1,
            1,
            1,
            1,
            1,
            1,
            1,
            1,
            1,
            1,
            1,
            1,
            1,
            1,
            1,
            1,
            1
           ]
          },
          {
           "colorscale": [
            [
             0,
             "rgb(252,141,98)"
            ],
            [
             1,
             "rgb(252,141,98)"
            ]
           ],
           "geo": "geo",
           "hovertemplate": "<b>%{hovertext}</b><br><br>cluster_aligned=1<br>year=2021<br>iso3=%{location}<extra></extra>",
           "hovertext": [
            "Hong Kong SAR, China",
            "Singapore"
           ],
           "locationmode": "ISO-3",
           "locations": [
            "HKG",
            "SGP"
           ],
           "name": "1",
           "showlegend": true,
           "showscale": false,
           "type": "choropleth",
           "z": [
            1,
            1
           ]
          },
          {
           "colorscale": [
            [
             0,
             "rgb(141,160,203)"
            ],
            [
             1,
             "rgb(141,160,203)"
            ]
           ],
           "geo": "geo",
           "hovertemplate": "<b>%{hovertext}</b><br><br>cluster_aligned=2<br>year=2021<br>iso3=%{location}<extra></extra>",
           "hovertext": [
            "China",
            "China"
           ],
           "locationmode": "ISO-3",
           "locations": [
            "CHN",
            "TWN"
           ],
           "name": "2",
           "showlegend": true,
           "showscale": false,
           "type": "choropleth",
           "z": [
            1,
            1
           ]
          },
          {
           "colorscale": [
            [
             0,
             "rgb(231,138,195)"
            ],
            [
             1,
             "rgb(231,138,195)"
            ]
           ],
           "geo": "geo",
           "hovertemplate": "<b>%{hovertext}</b><br><br>cluster_aligned=3<br>year=2021<br>iso3=%{location}<extra></extra>",
           "hovertext": [
            "Australia",
            "Fiji",
            "Guam",
            "Myanmar",
            "Mongolia",
            "New Caledonia",
            "Nepal",
            "French Polynesia",
            "Samoa"
           ],
           "locationmode": "ISO-3",
           "locations": [
            "AUS",
            "FJI",
            "GUM",
            "MMR",
            "MNG",
            "NCL",
            "NPL",
            "PYF",
            "WSM"
           ],
           "name": "3",
           "showlegend": true,
           "showscale": false,
           "type": "choropleth",
           "z": [
            1,
            1,
            1,
            1,
            1,
            1,
            1,
            1,
            1
           ]
          },
          {
           "hoverinfo": "text",
           "lat": [
            22.3193,
            1.3521
           ],
           "lon": [
            114.1694,
            103.8198
           ],
           "marker": {
            "color": [
             "rgb(252,141,98)",
             "rgb(252,141,98)"
            ],
            "line": {
             "color": "rgba(0,0,0,0.6)",
             "width": 0.6
            },
            "size": 10
           },
           "mode": "markers",
           "showlegend": false,
           "text": [
            "Hong Kong SAR, China | group 1",
            "Singapore | group 1"
           ],
           "type": "scattergeo"
          }
         ],
         "layout": {
          "geo": {
           "center": {
            "lat": 5,
            "lon": 110
           },
           "lataxis": {
            "range": [
             -70,
             60
            ]
           },
           "lonaxis": {
            "range": [
             0,
             230
            ]
           },
           "projection": {
            "scale": 1.2,
            "type": "equirectangular"
           },
           "showcoastlines": true,
           "showcountries": true
          }
         },
         "name": "2021"
        },
        {
         "data": [
          {
           "colorscale": [
            [
             0,
             "rgb(102,194,165)"
            ],
            [
             1,
             "rgb(102,194,165)"
            ]
           ],
           "geo": "geo",
           "hovertemplate": "<b>%{hovertext}</b><br><br>cluster_aligned=0<br>year=2022<br>iso3=%{location}<extra></extra>",
           "hovertext": [
            "American Samoa",
            "Australia",
            "Bangladesh",
            "Brunei Darussalam",
            "Bhutan",
            "Fiji",
            "Micronesia, Fed. Sts.",
            "Guam",
            "Indonesia",
            "India",
            "Japan",
            "Cambodia",
            "Kiribati",
            "Korea, Rep.",
            "Macao SAR, China",
            "Maldives",
            "Marshall Islands",
            "Myanmar",
            "Northern Mariana Islands",
            "Malaysia",
            "New Caledonia",
            "Nepal",
            "Nauru",
            "New Zealand",
            "Philippines",
            "Papua New Guinea",
            "Korea, Dem. People's Rep.",
            "French Polynesia",
            "Solomon Islands",
            "Thailand",
            "Timor-Leste",
            "Tonga",
            "Tuvalu",
            "Viet Nam",
            "Vanuatu",
            "Samoa"
           ],
           "locationmode": "ISO-3",
           "locations": [
            "ASM",
            "AUS",
            "BGD",
            "BRN",
            "BTN",
            "FJI",
            "FSM",
            "GUM",
            "IDN",
            "IND",
            "JPN",
            "KHM",
            "KIR",
            "KOR",
            "MAC",
            "MDV",
            "MHL",
            "MMR",
            "MNP",
            "MYS",
            "NCL",
            "NPL",
            "NRU",
            "NZL",
            "PHL",
            "PNG",
            "PRK",
            "PYF",
            "SLB",
            "THA",
            "TLS",
            "TON",
            "TUV",
            "VNM",
            "VUT",
            "WSM"
           ],
           "name": "0",
           "showlegend": true,
           "showscale": false,
           "type": "choropleth",
           "z": [
            1,
            1,
            1,
            1,
            1,
            1,
            1,
            1,
            1,
            1,
            1,
            1,
            1,
            1,
            1,
            1,
            1,
            1,
            1,
            1,
            1,
            1,
            1,
            1,
            1,
            1,
            1,
            1,
            1,
            1,
            1,
            1,
            1,
            1,
            1,
            1
           ]
          },
          {
           "colorscale": [
            [
             0,
             "rgb(252,141,98)"
            ],
            [
             1,
             "rgb(252,141,98)"
            ]
           ],
           "geo": "geo",
           "hovertemplate": "<b>%{hovertext}</b><br><br>cluster_aligned=1<br>year=2022<br>iso3=%{location}<extra></extra>",
           "hovertext": [
            "Hong Kong SAR, China",
            "Singapore"
           ],
           "locationmode": "ISO-3",
           "locations": [
            "HKG",
            "SGP"
           ],
           "name": "1",
           "showlegend": true,
           "showscale": false,
           "type": "choropleth",
           "z": [
            1,
            1
           ]
          },
          {
           "colorscale": [
            [
             0,
             "rgb(141,160,203)"
            ],
            [
             1,
             "rgb(141,160,203)"
            ]
           ],
           "geo": "geo",
           "hovertemplate": "<b>%{hovertext}</b><br><br>cluster_aligned=2<br>year=2022<br>iso3=%{location}<extra></extra>",
           "hovertext": [
            "China",
            "China"
           ],
           "locationmode": "ISO-3",
           "locations": [
            "CHN",
            "TWN"
           ],
           "name": "2",
           "showlegend": true,
           "showscale": false,
           "type": "choropleth",
           "z": [
            1,
            1
           ]
          },
          {
           "colorscale": [
            [
             0,
             "rgb(231,138,195)"
            ],
            [
             1,
             "rgb(231,138,195)"
            ]
           ],
           "geo": "geo",
           "hovertemplate": "<b>%{hovertext}</b><br><br>cluster_aligned=3<br>year=2022<br>iso3=%{location}<extra></extra>",
           "hovertext": [
            "Lao PDR",
            "Sri Lanka",
            "Mongolia",
            "Palau"
           ],
           "locationmode": "ISO-3",
           "locations": [
            "LAO",
            "LKA",
            "MNG",
            "PLW"
           ],
           "name": "3",
           "showlegend": true,
           "showscale": false,
           "type": "choropleth",
           "z": [
            1,
            1,
            1,
            1
           ]
          },
          {
           "hoverinfo": "text",
           "lat": [
            22.3193,
            1.3521
           ],
           "lon": [
            114.1694,
            103.8198
           ],
           "marker": {
            "color": [
             "rgb(252,141,98)",
             "rgb(252,141,98)"
            ],
            "line": {
             "color": "rgba(0,0,0,0.6)",
             "width": 0.6
            },
            "size": 10
           },
           "mode": "markers",
           "showlegend": false,
           "text": [
            "Hong Kong SAR, China | group 1",
            "Singapore | group 1"
           ],
           "type": "scattergeo"
          }
         ],
         "layout": {
          "geo": {
           "center": {
            "lat": 5,
            "lon": 110
           },
           "lataxis": {
            "range": [
             -70,
             60
            ]
           },
           "lonaxis": {
            "range": [
             0,
             230
            ]
           },
           "projection": {
            "scale": 1.2,
            "type": "equirectangular"
           },
           "showcoastlines": true,
           "showcountries": true
          }
         },
         "name": "2022"
        },
        {
         "data": [
          {
           "colorscale": [
            [
             0,
             "rgb(102,194,165)"
            ],
            [
             1,
             "rgb(102,194,165)"
            ]
           ],
           "geo": "geo",
           "hovertemplate": "<b>%{hovertext}</b><br><br>cluster_aligned=0<br>year=2023<br>iso3=%{location}<extra></extra>",
           "hovertext": [
            "American Samoa",
            "Australia",
            "Bangladesh",
            "Brunei Darussalam",
            "Bhutan",
            "Fiji",
            "Micronesia, Fed. Sts.",
            "Guam",
            "Indonesia",
            "India",
            "Japan",
            "Cambodia",
            "Kiribati",
            "Korea, Rep.",
            "Macao SAR, China",
            "Maldives",
            "Marshall Islands",
            "Myanmar",
            "Mongolia",
            "Northern Mariana Islands",
            "Malaysia",
            "New Caledonia",
            "Nepal",
            "Nauru",
            "New Zealand",
            "Philippines",
            "Papua New Guinea",
            "Korea, Dem. People's Rep.",
            "French Polynesia",
            "Solomon Islands",
            "Thailand",
            "Timor-Leste",
            "Tonga",
            "Tuvalu",
            "Viet Nam",
            "Vanuatu",
            "Samoa"
           ],
           "locationmode": "ISO-3",
           "locations": [
            "ASM",
            "AUS",
            "BGD",
            "BRN",
            "BTN",
            "FJI",
            "FSM",
            "GUM",
            "IDN",
            "IND",
            "JPN",
            "KHM",
            "KIR",
            "KOR",
            "MAC",
            "MDV",
            "MHL",
            "MMR",
            "MNG",
            "MNP",
            "MYS",
            "NCL",
            "NPL",
            "NRU",
            "NZL",
            "PHL",
            "PNG",
            "PRK",
            "PYF",
            "SLB",
            "THA",
            "TLS",
            "TON",
            "TUV",
            "VNM",
            "VUT",
            "WSM"
           ],
           "name": "0",
           "showlegend": true,
           "showscale": false,
           "type": "choropleth",
           "z": [
            1,
            1,
            1,
            1,
            1,
            1,
            1,
            1,
            1,
            1,
            1,
            1,
            1,
            1,
            1,
            1,
            1,
            1,
            1,
            1,
            1,
            1,
            1,
            1,
            1,
            1,
            1,
            1,
            1,
            1,
            1,
            1,
            1,
            1,
            1,
            1,
            1
           ]
          },
          {
           "colorscale": [
            [
             0,
             "rgb(252,141,98)"
            ],
            [
             1,
             "rgb(252,141,98)"
            ]
           ],
           "geo": "geo",
           "hovertemplate": "<b>%{hovertext}</b><br><br>cluster_aligned=1<br>year=2023<br>iso3=%{location}<extra></extra>",
           "hovertext": [
            "Hong Kong SAR, China",
            "Singapore"
           ],
           "locationmode": "ISO-3",
           "locations": [
            "HKG",
            "SGP"
           ],
           "name": "1",
           "showlegend": true,
           "showscale": false,
           "type": "choropleth",
           "z": [
            1,
            1
           ]
          },
          {
           "colorscale": [
            [
             0,
             "rgb(141,160,203)"
            ],
            [
             1,
             "rgb(141,160,203)"
            ]
           ],
           "geo": "geo",
           "hovertemplate": "<b>%{hovertext}</b><br><br>cluster_aligned=2<br>year=2023<br>iso3=%{location}<extra></extra>",
           "hovertext": [
            "China",
            "China"
           ],
           "locationmode": "ISO-3",
           "locations": [
            "CHN",
            "TWN"
           ],
           "name": "2",
           "showlegend": true,
           "showscale": false,
           "type": "choropleth",
           "z": [
            1,
            1
           ]
          },
          {
           "colorscale": [
            [
             0,
             "rgb(231,138,195)"
            ],
            [
             1,
             "rgb(231,138,195)"
            ]
           ],
           "geo": "geo",
           "hovertemplate": "<b>%{hovertext}</b><br><br>cluster_aligned=3<br>year=2023<br>iso3=%{location}<extra></extra>",
           "hovertext": [
            "Lao PDR",
            "Sri Lanka",
            "Palau"
           ],
           "locationmode": "ISO-3",
           "locations": [
            "LAO",
            "LKA",
            "PLW"
           ],
           "name": "3",
           "showlegend": true,
           "showscale": false,
           "type": "choropleth",
           "z": [
            1,
            1,
            1
           ]
          },
          {
           "hoverinfo": "text",
           "lat": [
            22.3193,
            1.3521
           ],
           "lon": [
            114.1694,
            103.8198
           ],
           "marker": {
            "color": [
             "rgb(252,141,98)",
             "rgb(252,141,98)"
            ],
            "line": {
             "color": "rgba(0,0,0,0.6)",
             "width": 0.6
            },
            "size": 10
           },
           "mode": "markers",
           "showlegend": false,
           "text": [
            "Hong Kong SAR, China | group 1",
            "Singapore | group 1"
           ],
           "type": "scattergeo"
          }
         ],
         "layout": {
          "geo": {
           "center": {
            "lat": 5,
            "lon": 110
           },
           "lataxis": {
            "range": [
             -70,
             60
            ]
           },
           "lonaxis": {
            "range": [
             0,
             230
            ]
           },
           "projection": {
            "scale": 1.2,
            "type": "equirectangular"
           },
           "showcoastlines": true,
           "showcountries": true
          }
         },
         "name": "2023"
        },
        {
         "data": [
          {
           "colorscale": [
            [
             0,
             "rgb(102,194,165)"
            ],
            [
             1,
             "rgb(102,194,165)"
            ]
           ],
           "geo": "geo",
           "hovertemplate": "<b>%{hovertext}</b><br><br>cluster_aligned=0<br>year=2024<br>iso3=%{location}<extra></extra>",
           "hovertext": [
            "American Samoa",
            "Australia",
            "Bangladesh",
            "Brunei Darussalam",
            "Bhutan",
            "Fiji",
            "Micronesia, Fed. Sts.",
            "Guam",
            "Indonesia",
            "India",
            "Japan",
            "Cambodia",
            "Kiribati",
            "Korea, Rep.",
            "Sri Lanka",
            "Macao SAR, China",
            "Maldives",
            "Marshall Islands",
            "Mongolia",
            "Northern Mariana Islands",
            "Malaysia",
            "New Caledonia",
            "Nepal",
            "Nauru",
            "New Zealand",
            "Philippines",
            "Palau",
            "Papua New Guinea",
            "Korea, Dem. People's Rep.",
            "French Polynesia",
            "Solomon Islands",
            "Thailand",
            "Timor-Leste",
            "Tonga",
            "Tuvalu",
            "Viet Nam",
            "Vanuatu",
            "Samoa"
           ],
           "locationmode": "ISO-3",
           "locations": [
            "ASM",
            "AUS",
            "BGD",
            "BRN",
            "BTN",
            "FJI",
            "FSM",
            "GUM",
            "IDN",
            "IND",
            "JPN",
            "KHM",
            "KIR",
            "KOR",
            "LKA",
            "MAC",
            "MDV",
            "MHL",
            "MNG",
            "MNP",
            "MYS",
            "NCL",
            "NPL",
            "NRU",
            "NZL",
            "PHL",
            "PLW",
            "PNG",
            "PRK",
            "PYF",
            "SLB",
            "THA",
            "TLS",
            "TON",
            "TUV",
            "VNM",
            "VUT",
            "WSM"
           ],
           "name": "0",
           "showlegend": true,
           "showscale": false,
           "type": "choropleth",
           "z": [
            1,
            1,
            1,
            1,
            1,
            1,
            1,
            1,
            1,
            1,
            1,
            1,
            1,
            1,
            1,
            1,
            1,
            1,
            1,
            1,
            1,
            1,
            1,
            1,
            1,
            1,
            1,
            1,
            1,
            1,
            1,
            1,
            1,
            1,
            1,
            1,
            1,
            1
           ]
          },
          {
           "colorscale": [
            [
             0,
             "rgb(252,141,98)"
            ],
            [
             1,
             "rgb(252,141,98)"
            ]
           ],
           "geo": "geo",
           "hovertemplate": "<b>%{hovertext}</b><br><br>cluster_aligned=1<br>year=2024<br>iso3=%{location}<extra></extra>",
           "hovertext": [
            "Hong Kong SAR, China",
            "Singapore"
           ],
           "locationmode": "ISO-3",
           "locations": [
            "HKG",
            "SGP"
           ],
           "name": "1",
           "showlegend": true,
           "showscale": false,
           "type": "choropleth",
           "z": [
            1,
            1
           ]
          },
          {
           "colorscale": [
            [
             0,
             "rgb(141,160,203)"
            ],
            [
             1,
             "rgb(141,160,203)"
            ]
           ],
           "geo": "geo",
           "hovertemplate": "<b>%{hovertext}</b><br><br>cluster_aligned=2<br>year=2024<br>iso3=%{location}<extra></extra>",
           "hovertext": [
            "China",
            "China"
           ],
           "locationmode": "ISO-3",
           "locations": [
            "CHN",
            "TWN"
           ],
           "name": "2",
           "showlegend": true,
           "showscale": false,
           "type": "choropleth",
           "z": [
            1,
            1
           ]
          },
          {
           "colorscale": [
            [
             0,
             "rgb(231,138,195)"
            ],
            [
             1,
             "rgb(231,138,195)"
            ]
           ],
           "geo": "geo",
           "hovertemplate": "<b>%{hovertext}</b><br><br>cluster_aligned=3<br>year=2024<br>iso3=%{location}<extra></extra>",
           "hovertext": [
            "Lao PDR",
            "Myanmar"
           ],
           "locationmode": "ISO-3",
           "locations": [
            "LAO",
            "MMR"
           ],
           "name": "3",
           "showlegend": true,
           "showscale": false,
           "type": "choropleth",
           "z": [
            1,
            1
           ]
          },
          {
           "hoverinfo": "text",
           "lat": [
            22.3193,
            1.3521
           ],
           "lon": [
            114.1694,
            103.8198
           ],
           "marker": {
            "color": [
             "rgb(252,141,98)",
             "rgb(252,141,98)"
            ],
            "line": {
             "color": "rgba(0,0,0,0.6)",
             "width": 0.6
            },
            "size": 10
           },
           "mode": "markers",
           "showlegend": false,
           "text": [
            "Hong Kong SAR, China | group 1",
            "Singapore | group 1"
           ],
           "type": "scattergeo"
          }
         ],
         "layout": {
          "geo": {
           "center": {
            "lat": 5,
            "lon": 110
           },
           "lataxis": {
            "range": [
             -70,
             60
            ]
           },
           "lonaxis": {
            "range": [
             0,
             230
            ]
           },
           "projection": {
            "scale": 1.2,
            "type": "equirectangular"
           },
           "showcoastlines": true,
           "showcountries": true
          }
         },
         "name": "2024"
        }
       ],
       "layout": {
        "geo": {
         "center": {
          "lat": 5,
          "lon": 110
         },
         "domain": {
          "x": [
           0,
           1
          ],
          "y": [
           0,
           1
          ]
         },
         "lataxis": {
          "range": [
           -70,
           60
          ]
         },
         "lonaxis": {
          "range": [
           0,
           230
          ]
         },
         "projection": {
          "scale": 1.2,
          "type": "equirectangular"
         },
         "showcoastlines": true,
         "showcountries": true,
         "uirevision": true
        },
        "height": 700,
        "legend": {
         "title": {
          "text": "cluster_aligned"
         },
         "tracegroupgap": 0
        },
        "margin": {
         "b": 0,
         "l": 0,
         "r": 0,
         "t": 60
        },
        "sliders": [
         {
          "active": 0,
          "currentvalue": {
           "prefix": "year="
          },
          "len": 0.9,
          "pad": {
           "b": 10,
           "t": 60
          },
          "steps": [
           {
            "args": [
             [
              "2015"
             ],
             {
              "frame": {
               "duration": 0,
               "redraw": true
              },
              "fromcurrent": true,
              "mode": "immediate",
              "transition": {
               "duration": 0,
               "easing": "linear"
              }
             }
            ],
            "label": "2015",
            "method": "animate"
           },
           {
            "args": [
             [
              "2016"
             ],
             {
              "frame": {
               "duration": 0,
               "redraw": true
              },
              "fromcurrent": true,
              "mode": "immediate",
              "transition": {
               "duration": 0,
               "easing": "linear"
              }
             }
            ],
            "label": "2016",
            "method": "animate"
           },
           {
            "args": [
             [
              "2017"
             ],
             {
              "frame": {
               "duration": 0,
               "redraw": true
              },
              "fromcurrent": true,
              "mode": "immediate",
              "transition": {
               "duration": 0,
               "easing": "linear"
              }
             }
            ],
            "label": "2017",
            "method": "animate"
           },
           {
            "args": [
             [
              "2018"
             ],
             {
              "frame": {
               "duration": 0,
               "redraw": true
              },
              "fromcurrent": true,
              "mode": "immediate",
              "transition": {
               "duration": 0,
               "easing": "linear"
              }
             }
            ],
            "label": "2018",
            "method": "animate"
           },
           {
            "args": [
             [
              "2019"
             ],
             {
              "frame": {
               "duration": 0,
               "redraw": true
              },
              "fromcurrent": true,
              "mode": "immediate",
              "transition": {
               "duration": 0,
               "easing": "linear"
              }
             }
            ],
            "label": "2019",
            "method": "animate"
           },
           {
            "args": [
             [
              "2020"
             ],
             {
              "frame": {
               "duration": 0,
               "redraw": true
              },
              "fromcurrent": true,
              "mode": "immediate",
              "transition": {
               "duration": 0,
               "easing": "linear"
              }
             }
            ],
            "label": "2020",
            "method": "animate"
           },
           {
            "args": [
             [
              "2021"
             ],
             {
              "frame": {
               "duration": 0,
               "redraw": true
              },
              "fromcurrent": true,
              "mode": "immediate",
              "transition": {
               "duration": 0,
               "easing": "linear"
              }
             }
            ],
            "label": "2021",
            "method": "animate"
           },
           {
            "args": [
             [
              "2022"
             ],
             {
              "frame": {
               "duration": 0,
               "redraw": true
              },
              "fromcurrent": true,
              "mode": "immediate",
              "transition": {
               "duration": 0,
               "easing": "linear"
              }
             }
            ],
            "label": "2022",
            "method": "animate"
           },
           {
            "args": [
             [
              "2023"
             ],
             {
              "frame": {
               "duration": 0,
               "redraw": true
              },
              "fromcurrent": true,
              "mode": "immediate",
              "transition": {
               "duration": 0,
               "easing": "linear"
              }
             }
            ],
            "label": "2023",
            "method": "animate"
           },
           {
            "args": [
             [
              "2024"
             ],
             {
              "frame": {
               "duration": 0,
               "redraw": true
              },
              "fromcurrent": true,
              "mode": "immediate",
              "transition": {
               "duration": 0,
               "easing": "linear"
              }
             }
            ],
            "label": "2024",
            "method": "animate"
           }
          ],
          "x": 0.1,
          "xanchor": "left",
          "y": 0,
          "yanchor": "top"
         }
        ],
        "template": {
         "data": {
          "bar": [
           {
            "error_x": {
             "color": "#2a3f5f"
            },
            "error_y": {
             "color": "#2a3f5f"
            },
            "marker": {
             "line": {
              "color": "#E5ECF6",
              "width": 0.5
             },
             "pattern": {
              "fillmode": "overlay",
              "size": 10,
              "solidity": 0.2
             }
            },
            "type": "bar"
           }
          ],
          "barpolar": [
           {
            "marker": {
             "line": {
              "color": "#E5ECF6",
              "width": 0.5
             },
             "pattern": {
              "fillmode": "overlay",
              "size": 10,
              "solidity": 0.2
             }
            },
            "type": "barpolar"
           }
          ],
          "carpet": [
           {
            "aaxis": {
             "endlinecolor": "#2a3f5f",
             "gridcolor": "white",
             "linecolor": "white",
             "minorgridcolor": "white",
             "startlinecolor": "#2a3f5f"
            },
            "baxis": {
             "endlinecolor": "#2a3f5f",
             "gridcolor": "white",
             "linecolor": "white",
             "minorgridcolor": "white",
             "startlinecolor": "#2a3f5f"
            },
            "type": "carpet"
           }
          ],
          "choropleth": [
           {
            "colorbar": {
             "outlinewidth": 0,
             "ticks": ""
            },
            "type": "choropleth"
           }
          ],
          "contour": [
           {
            "colorbar": {
             "outlinewidth": 0,
             "ticks": ""
            },
            "colorscale": [
             [
              0,
              "#0d0887"
             ],
             [
              0.1111111111111111,
              "#46039f"
             ],
             [
              0.2222222222222222,
              "#7201a8"
             ],
             [
              0.3333333333333333,
              "#9c179e"
             ],
             [
              0.4444444444444444,
              "#bd3786"
             ],
             [
              0.5555555555555556,
              "#d8576b"
             ],
             [
              0.6666666666666666,
              "#ed7953"
             ],
             [
              0.7777777777777778,
              "#fb9f3a"
             ],
             [
              0.8888888888888888,
              "#fdca26"
             ],
             [
              1,
              "#f0f921"
             ]
            ],
            "type": "contour"
           }
          ],
          "contourcarpet": [
           {
            "colorbar": {
             "outlinewidth": 0,
             "ticks": ""
            },
            "type": "contourcarpet"
           }
          ],
          "heatmap": [
           {
            "colorbar": {
             "outlinewidth": 0,
             "ticks": ""
            },
            "colorscale": [
             [
              0,
              "#0d0887"
             ],
             [
              0.1111111111111111,
              "#46039f"
             ],
             [
              0.2222222222222222,
              "#7201a8"
             ],
             [
              0.3333333333333333,
              "#9c179e"
             ],
             [
              0.4444444444444444,
              "#bd3786"
             ],
             [
              0.5555555555555556,
              "#d8576b"
             ],
             [
              0.6666666666666666,
              "#ed7953"
             ],
             [
              0.7777777777777778,
              "#fb9f3a"
             ],
             [
              0.8888888888888888,
              "#fdca26"
             ],
             [
              1,
              "#f0f921"
             ]
            ],
            "type": "heatmap"
           }
          ],
          "heatmapgl": [
           {
            "colorbar": {
             "outlinewidth": 0,
             "ticks": ""
            },
            "colorscale": [
             [
              0,
              "#0d0887"
             ],
             [
              0.1111111111111111,
              "#46039f"
             ],
             [
              0.2222222222222222,
              "#7201a8"
             ],
             [
              0.3333333333333333,
              "#9c179e"
             ],
             [
              0.4444444444444444,
              "#bd3786"
             ],
             [
              0.5555555555555556,
              "#d8576b"
             ],
             [
              0.6666666666666666,
              "#ed7953"
             ],
             [
              0.7777777777777778,
              "#fb9f3a"
             ],
             [
              0.8888888888888888,
              "#fdca26"
             ],
             [
              1,
              "#f0f921"
             ]
            ],
            "type": "heatmapgl"
           }
          ],
          "histogram": [
           {
            "marker": {
             "pattern": {
              "fillmode": "overlay",
              "size": 10,
              "solidity": 0.2
             }
            },
            "type": "histogram"
           }
          ],
          "histogram2d": [
           {
            "colorbar": {
             "outlinewidth": 0,
             "ticks": ""
            },
            "colorscale": [
             [
              0,
              "#0d0887"
             ],
             [
              0.1111111111111111,
              "#46039f"
             ],
             [
              0.2222222222222222,
              "#7201a8"
             ],
             [
              0.3333333333333333,
              "#9c179e"
             ],
             [
              0.4444444444444444,
              "#bd3786"
             ],
             [
              0.5555555555555556,
              "#d8576b"
             ],
             [
              0.6666666666666666,
              "#ed7953"
             ],
             [
              0.7777777777777778,
              "#fb9f3a"
             ],
             [
              0.8888888888888888,
              "#fdca26"
             ],
             [
              1,
              "#f0f921"
             ]
            ],
            "type": "histogram2d"
           }
          ],
          "histogram2dcontour": [
           {
            "colorbar": {
             "outlinewidth": 0,
             "ticks": ""
            },
            "colorscale": [
             [
              0,
              "#0d0887"
             ],
             [
              0.1111111111111111,
              "#46039f"
             ],
             [
              0.2222222222222222,
              "#7201a8"
             ],
             [
              0.3333333333333333,
              "#9c179e"
             ],
             [
              0.4444444444444444,
              "#bd3786"
             ],
             [
              0.5555555555555556,
              "#d8576b"
             ],
             [
              0.6666666666666666,
              "#ed7953"
             ],
             [
              0.7777777777777778,
              "#fb9f3a"
             ],
             [
              0.8888888888888888,
              "#fdca26"
             ],
             [
              1,
              "#f0f921"
             ]
            ],
            "type": "histogram2dcontour"
           }
          ],
          "mesh3d": [
           {
            "colorbar": {
             "outlinewidth": 0,
             "ticks": ""
            },
            "type": "mesh3d"
           }
          ],
          "parcoords": [
           {
            "line": {
             "colorbar": {
              "outlinewidth": 0,
              "ticks": ""
             }
            },
            "type": "parcoords"
           }
          ],
          "pie": [
           {
            "automargin": true,
            "type": "pie"
           }
          ],
          "scatter": [
           {
            "fillpattern": {
             "fillmode": "overlay",
             "size": 10,
             "solidity": 0.2
            },
            "type": "scatter"
           }
          ],
          "scatter3d": [
           {
            "line": {
             "colorbar": {
              "outlinewidth": 0,
              "ticks": ""
             }
            },
            "marker": {
             "colorbar": {
              "outlinewidth": 0,
              "ticks": ""
             }
            },
            "type": "scatter3d"
           }
          ],
          "scattercarpet": [
           {
            "marker": {
             "colorbar": {
              "outlinewidth": 0,
              "ticks": ""
             }
            },
            "type": "scattercarpet"
           }
          ],
          "scattergeo": [
           {
            "marker": {
             "colorbar": {
              "outlinewidth": 0,
              "ticks": ""
             }
            },
            "type": "scattergeo"
           }
          ],
          "scattergl": [
           {
            "marker": {
             "colorbar": {
              "outlinewidth": 0,
              "ticks": ""
             }
            },
            "type": "scattergl"
           }
          ],
          "scattermapbox": [
           {
            "marker": {
             "colorbar": {
              "outlinewidth": 0,
              "ticks": ""
             }
            },
            "type": "scattermapbox"
           }
          ],
          "scatterpolar": [
           {
            "marker": {
             "colorbar": {
              "outlinewidth": 0,
              "ticks": ""
             }
            },
            "type": "scatterpolar"
           }
          ],
          "scatterpolargl": [
           {
            "marker": {
             "colorbar": {
              "outlinewidth": 0,
              "ticks": ""
             }
            },
            "type": "scatterpolargl"
           }
          ],
          "scatterternary": [
           {
            "marker": {
             "colorbar": {
              "outlinewidth": 0,
              "ticks": ""
             }
            },
            "type": "scatterternary"
           }
          ],
          "surface": [
           {
            "colorbar": {
             "outlinewidth": 0,
             "ticks": ""
            },
            "colorscale": [
             [
              0,
              "#0d0887"
             ],
             [
              0.1111111111111111,
              "#46039f"
             ],
             [
              0.2222222222222222,
              "#7201a8"
             ],
             [
              0.3333333333333333,
              "#9c179e"
             ],
             [
              0.4444444444444444,
              "#bd3786"
             ],
             [
              0.5555555555555556,
              "#d8576b"
             ],
             [
              0.6666666666666666,
              "#ed7953"
             ],
             [
              0.7777777777777778,
              "#fb9f3a"
             ],
             [
              0.8888888888888888,
              "#fdca26"
             ],
             [
              1,
              "#f0f921"
             ]
            ],
            "type": "surface"
           }
          ],
          "table": [
           {
            "cells": {
             "fill": {
              "color": "#EBF0F8"
             },
             "line": {
              "color": "white"
             }
            },
            "header": {
             "fill": {
              "color": "#C8D4E3"
             },
             "line": {
              "color": "white"
             }
            },
            "type": "table"
           }
          ]
         },
         "layout": {
          "annotationdefaults": {
           "arrowcolor": "#2a3f5f",
           "arrowhead": 0,
           "arrowwidth": 1
          },
          "autotypenumbers": "strict",
          "coloraxis": {
           "colorbar": {
            "outlinewidth": 0,
            "ticks": ""
           }
          },
          "colorscale": {
           "diverging": [
            [
             0,
             "#8e0152"
            ],
            [
             0.1,
             "#c51b7d"
            ],
            [
             0.2,
             "#de77ae"
            ],
            [
             0.3,
             "#f1b6da"
            ],
            [
             0.4,
             "#fde0ef"
            ],
            [
             0.5,
             "#f7f7f7"
            ],
            [
             0.6,
             "#e6f5d0"
            ],
            [
             0.7,
             "#b8e186"
            ],
            [
             0.8,
             "#7fbc41"
            ],
            [
             0.9,
             "#4d9221"
            ],
            [
             1,
             "#276419"
            ]
           ],
           "sequential": [
            [
             0,
             "#0d0887"
            ],
            [
             0.1111111111111111,
             "#46039f"
            ],
            [
             0.2222222222222222,
             "#7201a8"
            ],
            [
             0.3333333333333333,
             "#9c179e"
            ],
            [
             0.4444444444444444,
             "#bd3786"
            ],
            [
             0.5555555555555556,
             "#d8576b"
            ],
            [
             0.6666666666666666,
             "#ed7953"
            ],
            [
             0.7777777777777778,
             "#fb9f3a"
            ],
            [
             0.8888888888888888,
             "#fdca26"
            ],
            [
             1,
             "#f0f921"
            ]
           ],
           "sequentialminus": [
            [
             0,
             "#0d0887"
            ],
            [
             0.1111111111111111,
             "#46039f"
            ],
            [
             0.2222222222222222,
             "#7201a8"
            ],
            [
             0.3333333333333333,
             "#9c179e"
            ],
            [
             0.4444444444444444,
             "#bd3786"
            ],
            [
             0.5555555555555556,
             "#d8576b"
            ],
            [
             0.6666666666666666,
             "#ed7953"
            ],
            [
             0.7777777777777778,
             "#fb9f3a"
            ],
            [
             0.8888888888888888,
             "#fdca26"
            ],
            [
             1,
             "#f0f921"
            ]
           ]
          },
          "colorway": [
           "#636efa",
           "#EF553B",
           "#00cc96",
           "#ab63fa",
           "#FFA15A",
           "#19d3f3",
           "#FF6692",
           "#B6E880",
           "#FF97FF",
           "#FECB52"
          ],
          "font": {
           "color": "#2a3f5f"
          },
          "geo": {
           "bgcolor": "white",
           "lakecolor": "white",
           "landcolor": "#E5ECF6",
           "showlakes": true,
           "showland": true,
           "subunitcolor": "white"
          },
          "hoverlabel": {
           "align": "left"
          },
          "hovermode": "closest",
          "mapbox": {
           "style": "light"
          },
          "paper_bgcolor": "white",
          "plot_bgcolor": "#E5ECF6",
          "polar": {
           "angularaxis": {
            "gridcolor": "white",
            "linecolor": "white",
            "ticks": ""
           },
           "bgcolor": "#E5ECF6",
           "radialaxis": {
            "gridcolor": "white",
            "linecolor": "white",
            "ticks": ""
           }
          },
          "scene": {
           "xaxis": {
            "backgroundcolor": "#E5ECF6",
            "gridcolor": "white",
            "gridwidth": 2,
            "linecolor": "white",
            "showbackground": true,
            "ticks": "",
            "zerolinecolor": "white"
           },
           "yaxis": {
            "backgroundcolor": "#E5ECF6",
            "gridcolor": "white",
            "gridwidth": 2,
            "linecolor": "white",
            "showbackground": true,
            "ticks": "",
            "zerolinecolor": "white"
           },
           "zaxis": {
            "backgroundcolor": "#E5ECF6",
            "gridcolor": "white",
            "gridwidth": 2,
            "linecolor": "white",
            "showbackground": true,
            "ticks": "",
            "zerolinecolor": "white"
           }
          },
          "shapedefaults": {
           "line": {
            "color": "#2a3f5f"
           }
          },
          "ternary": {
           "aaxis": {
            "gridcolor": "white",
            "linecolor": "white",
            "ticks": ""
           },
           "baxis": {
            "gridcolor": "white",
            "linecolor": "white",
            "ticks": ""
           },
           "bgcolor": "#E5ECF6",
           "caxis": {
            "gridcolor": "white",
            "linecolor": "white",
            "ticks": ""
           }
          },
          "title": {
           "x": 0.05
          },
          "xaxis": {
           "automargin": true,
           "gridcolor": "white",
           "linecolor": "white",
           "ticks": "",
           "title": {
            "standoff": 15
           },
           "zerolinecolor": "white",
           "zerolinewidth": 2
          },
          "yaxis": {
           "automargin": true,
           "gridcolor": "white",
           "linecolor": "white",
           "ticks": "",
           "title": {
            "standoff": 15
           },
           "zerolinecolor": "white",
           "zerolinewidth": 2
          }
         }
        },
        "title": {
         "text": "KMeans Clustering by Year (k=4, aligned labels)"
        },
        "updatemenus": [
         {
          "buttons": [
           {
            "args": [
             null,
             {
              "frame": {
               "duration": 500,
               "redraw": true
              },
              "fromcurrent": true,
              "mode": "immediate",
              "transition": {
               "duration": 500,
               "easing": "linear"
              }
             }
            ],
            "label": "&#9654;",
            "method": "animate"
           },
           {
            "args": [
             [
              null
             ],
             {
              "frame": {
               "duration": 0,
               "redraw": true
              },
              "fromcurrent": true,
              "mode": "immediate",
              "transition": {
               "duration": 0,
               "easing": "linear"
              }
             }
            ],
            "label": "&#9724;",
            "method": "animate"
           }
          ],
          "direction": "left",
          "pad": {
           "r": 10,
           "t": 70
          },
          "showactive": false,
          "type": "buttons",
          "x": 0.1,
          "xanchor": "right",
          "y": 0,
          "yanchor": "top"
         }
        ],
        "width": 1100
       }
      }
     },
     "metadata": {},
     "output_type": "display_data"
    }
   ],
   "source": [
    "import plotly.express as px\n",
    "import plotly.graph_objects as go\n",
    "import numpy as np\n",
    "import pandas as pd\n",
    "\n",
    "# ========= 0) 准备数据：对齐后簇标签转字符串、固定颜色映射 =========\n",
    "df_plot = df_clustered_year.copy()\n",
    "\n",
    "# 强制为 int -> str，避免出现 float 标签\n",
    "df_plot['cluster_aligned'] = df_plot['cluster_aligned'].astype(int).astype(str)\n",
    "\n",
    "# 固定簇的类别顺序与配色（Set2）\n",
    "category_order = ['0', '1', '2', '3']\n",
    "palette = px.colors.qualitative.Set2\n",
    "color_discrete_map = {c: palette[i % len(palette)] for i, c in enumerate(category_order)}\n",
    "\n",
    "# ========= 1) 主底图：choropleth，含逐年动画 =========\n",
    "fig = px.choropleth(\n",
    "    df_plot,\n",
    "    locations='iso3',\n",
    "    locationmode='ISO-3',\n",
    "    color='cluster_aligned',\n",
    "    category_orders={'cluster_aligned': category_order},\n",
    "    color_discrete_map=color_discrete_map,\n",
    "    hover_name='country_name',\n",
    "    animation_frame='year',\n",
    "    title='KMeans Clustering by Year (k=4, aligned labels)'\n",
    ")\n",
    "\n",
    "# ========= 2) 亚太区域裁剪范围（可按需微调）=========\n",
    "LON_RANGE = [0, 230]     # 经度：中东~西太平洋\n",
    "LAT_RANGE = [-70, 60]    # 纬度：印尼~日本\n",
    "CENTER    = dict(lon=110, lat=5)\n",
    "\n",
    "geo_cfg = dict(\n",
    "    projection=dict(type=\"equirectangular\", scale=1.2),\n",
    "    center=CENTER,\n",
    "    lonaxis=dict(range=LON_RANGE),\n",
    "    lataxis=dict(range=LAT_RANGE),\n",
    "    showcoastlines=True,\n",
    "    showcountries=True,\n",
    ")\n",
    "\n",
    "fig.update_layout(geo=geo_cfg)\n",
    "\n",
    "# ========= 3) 叠加微型地区（SGP/HKG）为点，并与动画帧同步 =========\n",
    "MICRO_ISO3 = [\"SGP\", \"HKG\"]\n",
    "MICRO_LATLON = {\n",
    "    \"SGP\": (1.3521, 103.8198),   # (lat, lon)\n",
    "    \"HKG\": (22.3193, 114.1694),\n",
    "}\n",
    "\n",
    "# 初始帧：取动画的第一个年份（如果有）\n",
    "years_sorted = sorted(df_plot['year'].unique().tolist())\n",
    "if len(years_sorted) > 0:\n",
    "    first_year = int(years_sorted[0])\n",
    "    pts0 = df_plot[(df_plot['year'] == first_year) & (df_plot['iso3'].isin(MICRO_ISO3))].copy()\n",
    "    if not pts0.empty:\n",
    "        pts0['lat'] = pts0['iso3'].map(lambda c: MICRO_LATLON[c][0])\n",
    "        pts0['lon'] = pts0['iso3'].map(lambda c: MICRO_LATLON[c][1])\n",
    "        fig.add_trace(go.Scattergeo(\n",
    "            lon=pts0['lon'],\n",
    "            lat=pts0['lat'],\n",
    "            mode=\"markers\",\n",
    "            marker=dict(\n",
    "                size=10,\n",
    "                color=[color_discrete_map.get(v, palette[0]) for v in pts0['cluster_aligned']],\n",
    "                line=dict(width=0.6, color=\"rgba(0,0,0,0.6)\")\n",
    "            ),\n",
    "            text=pts0['country_name'] + \" | group \" + pts0['cluster_aligned'],\n",
    "            hoverinfo=\"text\",\n",
    "            showlegend=False\n",
    "        ))\n",
    "\n",
    "# 每一帧：追加对应年份的微型地区点\n",
    "for fr in fig.frames:\n",
    "    # 帧名就是该年的字符串\n",
    "    try:\n",
    "        y = int(fr.name)\n",
    "    except Exception:\n",
    "        # 应对某些环境帧名是字符串且不可转 int\n",
    "        y = int(str(fr.name))\n",
    "    pts = df_plot[(df_plot['year'] == y) & (df_plot['iso3'].isin(MICRO_ISO3))].copy()\n",
    "    if not pts.empty:\n",
    "        pts['lat'] = pts['iso3'].map(lambda c: MICRO_LATLON[c][0])\n",
    "        pts['lon'] = pts['iso3'].map(lambda c: MICRO_LATLON[c][1])\n",
    "        scatter = go.Scattergeo(\n",
    "            lon=pts['lon'],\n",
    "            lat=pts['lat'],\n",
    "            mode=\"markers\",\n",
    "            marker=dict(\n",
    "                size=10,\n",
    "                color=[color_discrete_map.get(v, palette[0]) for v in pts['cluster_aligned']],\n",
    "                line=dict(width=0.6, color=\"rgba(0,0,0,0.6)\")\n",
    "            ),\n",
    "            text=pts['country_name'] + \" | group \" + pts['cluster_aligned'],\n",
    "            hoverinfo=\"text\",\n",
    "            showlegend=False\n",
    "        )\n",
    "        fr.data = fr.data + (scatter,)\n",
    "\n",
    "    # 同步每帧的 geo 配置，避免动画重置范围/投影\n",
    "    if not hasattr(fr, 'layout') or fr.layout is None:\n",
    "        fr.layout = {}\n",
    "    # 复制 geo 到帧\n",
    "    fr.layout.update(geo=geo_cfg)\n",
    "\n",
    "# ========= 4) 交互后保持缩放/拖拽状态（帧切换不重置）=========\n",
    "fig.update_layout(\n",
    "    height=700, width=1100,\n",
    "    margin=dict(l=0, r=0, t=60, b=0),\n",
    "    geo_uirevision=True  # 用户交互后的缩放范围在不同帧间保持\n",
    ")\n",
    "\n",
    "fig.show()\n"
   ]
  },
  {
   "cell_type": "code",
   "execution_count": null,
   "id": "deb0e475",
   "metadata": {},
   "outputs": [],
   "source": [
    "df_clustered_year"
   ]
  },
  {
   "cell_type": "code",
   "execution_count": null,
   "id": "407791cb",
   "metadata": {},
   "outputs": [],
   "source": [
    "df_clustered_year[df_clustered_year['iso3']!='TWN'  ]"
   ]
  },
  {
   "cell_type": "code",
   "execution_count": null,
   "id": "737a77cf",
   "metadata": {},
   "outputs": [],
   "source": [
    "import pandas as pd\n",
    "import numpy as np\n",
    "from sklearn.preprocessing import StandardScaler\n",
    "from sklearn.ensemble import RandomForestClassifier\n",
    "import plotly.express as px\n",
    "\n",
    "# 1) 构建按年训练集（使用“同一年”的横截面；为避免规模偏置，对该年做 z-score）\n",
    "def rf_importance_by_year(df_clustered_year, value_cols, seed=42):\n",
    "    value_cols_scale = StandardScaler().fit_transform(df_clustered_year[value_cols])\n",
    "    df_scale = df_clustered_year.copy()\n",
    "    df_scale[value_cols] = value_cols_scale\n",
    "    records = []\n",
    "    for y, g in df_scale.groupby('year'):\n",
    "        X = g[value_cols].to_numpy()\n",
    "        ylab = g['cluster_aligned'].astype(int).to_numpy()\n",
    "        if len(np.unique(ylab)) < 2 or len(g) < 10:\n",
    "            continue\n",
    "\n",
    "        rf = RandomForestClassifier(random_state=seed, n_jobs=-1)\n",
    "        rf.fit(X, ylab)\n",
    "        for f, w in zip(value_cols, rf.feature_importances_):\n",
    "            records.append({'year': int(y), 'feature': f, 'importance': float(w)})\n",
    "    return pd.DataFrame(records)\n",
    "\n",
    "imp_df = rf_importance_by_year(df_clustered_year[df_clustered_year['iso3']!='TWN'], value_cols)\n",
    "\n",
    "# 排序 + 动画\n",
    "fig_imp = px.bar(\n",
    "    imp_df.sort_values(['year','importance']),\n",
    "    x='feature', y='importance',\n",
    "    animation_frame='year',\n",
    "    title='Which attributes define the groupings? (RandomForest feature importance by year)'\n",
    ")\n",
    "fig_imp.update_layout(xaxis_title='Indicator', yaxis_title='Importance')\n",
    "fig_imp.show()\n"
   ]
  },
  {
   "cell_type": "code",
   "execution_count": null,
   "id": "875d849f",
   "metadata": {},
   "outputs": [],
   "source": [
    "import numpy as np\n",
    "import pandas as pd\n",
    "from sklearn.preprocessing import StandardScaler\n",
    "import plotly.graph_objects as go\n",
    "import plotly.express as px\n",
    "\n",
    "def build_cluster_radar_dropdown(df_clustered_year: pd.DataFrame, value_cols, title=\"Cluster Profiles (z-scored)\"):\n",
    "    df = df_clustered_year.copy()\n",
    "\n",
    "    # 1) 强制标签为 int，避免 '0'/'1' 的字符串导致聚合问题\n",
    "    df['cluster_aligned'] = df['cluster_aligned'].astype(int)\n",
    "\n",
    "    # 2) 年份排序 + 颜色\n",
    "    years = sorted(df['year'].unique().tolist())\n",
    "    groups_all = sorted(df['cluster_aligned'].unique().tolist())  # 全局可能的组（如 0..3）\n",
    "    palette = px.colors.qualitative.Set2\n",
    "    color_map = {g: palette[g % len(palette)] for g in groups_all}\n",
    "\n",
    "    # 3) 预先计算：每年、每组的 z-score 画像（均值）\n",
    "    scaler = StandardScaler().fit(df[value_cols])\n",
    "    df[value_cols] = scaler.transform(df[value_cols])\n",
    "\n",
    "\n",
    "    profiles_by_year = {}  # year -> DataFrame(index=cluster, columns=value_cols(z))\n",
    "    for y, g in df.groupby('year'):\n",
    "        g = g.copy()\n",
    "        # 仅使用当年的列做 z-score，避免量纲混淆\n",
    "        #Xz = StandardScaler().fit_transform(g[value_cols].to_numpy())\n",
    "        #g[value_cols] = Xz\n",
    "        prof = g.groupby('cluster_aligned')[value_cols].mean().sort_index()\n",
    "        profiles_by_year[int(y)] = prof\n",
    "\n",
    "    # 4) 生成图：为每个年中的实际存在的组各建一条 trace\n",
    "    fig = go.Figure()\n",
    "    theta = list(value_cols) + [value_cols[0]]  # 闭合\n",
    "    vis_map = []  # 每个年份对应一个可见性布尔列表\n",
    "    trace_year_index = []  # 记录每条 trace 属于哪个 year（用于构造 visibility）\n",
    "\n",
    "    for y in years:\n",
    "        prof = profiles_by_year.get(int(y))\n",
    "        if prof is None or prof.empty:\n",
    "            continue\n",
    "        for grp in prof.index.tolist():\n",
    "            r = prof.loc[grp, value_cols].values\n",
    "            r_closed = np.r_[r, r[0]]  # 闭合\n",
    "            fig.add_trace(go.Scatterpolar(\n",
    "                r=r_closed, theta=theta,\n",
    "                mode='lines+markers',\n",
    "                name=f'Year {y} — Group {grp}',\n",
    "                line=dict(width=2, color=color_map.get(int(grp), 'gray')),\n",
    "                marker=dict(size=5),\n",
    "                showlegend=True  # 保留图例，方便确认\n",
    "            ))\n",
    "            trace_year_index.append(int(y))\n",
    "\n",
    "    # 5) 构造每个年份按钮的 visibility\n",
    "    n_traces = len(fig.data)\n",
    "    for y in years:\n",
    "        vis = [ (trace_year_index[i] == int(y)) for i in range(n_traces) ]\n",
    "        vis_map.append(vis)\n",
    "\n",
    "    # 6) 初始显示第一个年份\n",
    "    initial_vis = vis_map[0] if vis_map else [True]*n_traces\n",
    "    for i, visible in enumerate(initial_vis):\n",
    "        fig.data[i].visible = visible\n",
    "\n",
    "    # 7) 下拉菜单（切换年份）\n",
    "    buttons = []\n",
    "    for i, y in enumerate(years):\n",
    "        buttons.append(dict(\n",
    "            label=str(y),\n",
    "            method='update',\n",
    "            args=[\n",
    "                {'visible': vis_map[i]},\n",
    "                {'title': f\"{title} — {y}\",\n",
    "                 'polar': dict(radialaxis=dict(visible=True))}\n",
    "            ]\n",
    "        ))\n",
    "\n",
    "    fig.update_layout(\n",
    "        title=f\"{title} — {years[0] if years else ''}\",\n",
    "        height=650,\n",
    "        width=1000,\n",
    "        polar=dict(radialaxis=dict(visible=True)),\n",
    "        updatemenus=[dict(\n",
    "            type=\"dropdown\",\n",
    "            buttons=buttons,\n",
    "            showactive=True,\n",
    "            x=1.02, y=1.1,            # ← 位置\n",
    "            xanchor=\"left\",         # ← 锚点\n",
    "            yanchor=\"top\",\n",
    "            pad={\"t\": 6, \"r\": 6}    # ← 与边缘留白\n",
    "        )],\n",
    "        margin=dict(l=40, r=40, t=80, b=40)\n",
    "    )\n",
    "\n",
    "    return fig\n",
    "\n",
    "# ==== 调用 ====\n",
    "fig_radar = build_cluster_radar_dropdown(df_clustered_year, value_cols,\n",
    "                                         title=\"Cluster Profiles (z-scored)\")\n",
    "fig_radar.show()\n"
   ]
  },
  {
   "cell_type": "code",
   "execution_count": null,
   "id": "f3dfcc5c",
   "metadata": {},
   "outputs": [],
   "source": [
    "import plotly.graph_objects as go\n",
    "\n",
    "def early_late_sankey(df_clustered_year):\n",
    "    years = sorted(df_clustered_year['year'].unique())\n",
    "    early, late = years[:len(years)//2], years[len(years)//2:]\n",
    "    e_mode = (df_clustered_year[df_clustered_year['year'].isin(early)]\n",
    "              .groupby('iso3')['cluster_aligned'].agg(lambda s: s.astype(int).mode().iloc[0]))\n",
    "    l_mode = (df_clustered_year[df_clustered_year['year'].isin(late)]\n",
    "              .groupby('iso3')['cluster_aligned'].agg(lambda s: s.astype(int).mode().iloc[0]))\n",
    "    flows = (pd.DataFrame({'e':e_mode, 'l':l_mode})\n",
    "             .dropna().astype(int).value_counts().reset_index(name='count'))\n",
    "    flows['e'] = 'E'+flows['e'].astype(str); flows['l'] = 'L'+flows['l'].astype(str)\n",
    "\n",
    "    nodes = sorted(set(flows['e'])|set(flows['l']))\n",
    "    idx = {n:i for i,n in enumerate(nodes)}\n",
    "    fig = go.Figure(data=[go.Sankey(\n",
    "        node=dict(label=nodes),\n",
    "        link=dict(\n",
    "            source=[idx[s] for s in flows['e']],\n",
    "            target=[idx[t] for t in flows['l']],\n",
    "            value=flows['count'].tolist()\n",
    "        )\n",
    "    )])\n",
    "    fig.update_layout(title='Early → Late Group Transitions (mode per country)')\n",
    "    return fig\n",
    "\n",
    "fig_sankey = early_late_sankey(df_clustered_year)\n",
    "fig_sankey.show()\n"
   ]
  }
 ],
 "metadata": {
  "kernelspec": {
   "display_name": "base",
   "language": "python",
   "name": "python3"
  },
  "language_info": {
   "codemirror_mode": {
    "name": "ipython",
    "version": 3
   },
   "file_extension": ".py",
   "mimetype": "text/x-python",
   "name": "python",
   "nbconvert_exporter": "python",
   "pygments_lexer": "ipython3",
   "version": "3.13.5"
  }
 },
 "nbformat": 4,
 "nbformat_minor": 5
}
